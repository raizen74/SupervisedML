{
  "nbformat": 4,
  "nbformat_minor": 0,
  "metadata": {
    "colab": {
      "provenance": []
    },
    "kernelspec": {
      "name": "python3",
      "display_name": "Python 3"
    },
    "language_info": {
      "name": "python"
    }
  },
  "cells": [
    {
      "cell_type": "markdown",
      "source": [
        "#Supervised methods job assignment: Adult dataset\n",
        "\n",
        "David Galera, Gener 2023."
      ],
      "metadata": {
        "id": "4kyvdmnch3WP"
      }
    },
    {
      "cell_type": "markdown",
      "source": [
        "# Preparació"
      ],
      "metadata": {
        "id": "y9kZZmz0PMQE"
      }
    },
    {
      "cell_type": "markdown",
      "source": [
        "## Importació de móduls i dataset"
      ],
      "metadata": {
        "id": "-W5fiFmhPiFj"
      }
    },
    {
      "cell_type": "code",
      "source": [
        "import pandas as pd\n",
        "import numpy as np\n",
        "import matplotlib.pyplot as plt\n",
        "import matplotlib.colors as colors\n",
        "import seaborn as sns\n",
        "from sklearn.utils import resample #downsample the dataset\n",
        "from sklearn.model_selection import train_test_split #split data into training and testing datasets\n",
        "from sklearn.preprocessing import StandardScaler #scale and center the data\n",
        "from sklearn import svm #this will make a support vector machine for classification\n",
        "from sklearn.model_selection import GridSearchCV #this will do cross validation\n",
        "from sklearn.metrics import confusion_matrix #this creates a confusion matrix\n",
        "from sklearn.metrics import plot_confusion_matrix #draws a confusion matrix\n",
        "from sklearn.preprocessing import LabelEncoder\n",
        "from sklearn.decomposition import PCA\n",
        "from sklearn.model_selection import cross_val_score\n",
        "from sklearn.preprocessing import MinMaxScaler\n",
        "from sklearn.neighbors import KNeighborsClassifier\n",
        "from sklearn.naive_bayes import GaussianNB\n",
        "from time import time"
      ],
      "metadata": {
        "id": "P4zuKsjMP5YS"
      },
      "execution_count": null,
      "outputs": []
    },
    {
      "cell_type": "code",
      "source": [
        "adult = pd.read_csv(\"https://archive.ics.uci.edu/ml/machine-learning-databases/adult/adult.data\", sep=\",\", header=None, skipinitialspace=True)\n",
        "columns=['age', 'workclass', 'fnlwgt', 'education', 'education-num', 'marital-status', 'occupation', 'relationship', 'race',  'sex', 'capital-gain', 'capital-loss', 'hours-per-week', 'native-country', 'income']\n",
        "adult.columns = columns\n",
        "print(adult.info())\n",
        "print(adult.head())"
      ],
      "metadata": {
        "colab": {
          "base_uri": "https://localhost:8080/"
        },
        "id": "OWVRfFfmQYC3",
        "outputId": "1f4ade92-7a37-48b7-94e7-df60b3d3dd13"
      },
      "execution_count": null,
      "outputs": [
        {
          "output_type": "stream",
          "name": "stdout",
          "text": [
            "<class 'pandas.core.frame.DataFrame'>\n",
            "RangeIndex: 32561 entries, 0 to 32560\n",
            "Data columns (total 15 columns):\n",
            " #   Column          Non-Null Count  Dtype \n",
            "---  ------          --------------  ----- \n",
            " 0   age             32561 non-null  int64 \n",
            " 1   workclass       32561 non-null  object\n",
            " 2   fnlwgt          32561 non-null  int64 \n",
            " 3   education       32561 non-null  object\n",
            " 4   education-num   32561 non-null  int64 \n",
            " 5   marital-status  32561 non-null  object\n",
            " 6   occupation      32561 non-null  object\n",
            " 7   relationship    32561 non-null  object\n",
            " 8   race            32561 non-null  object\n",
            " 9   sex             32561 non-null  object\n",
            " 10  capital-gain    32561 non-null  int64 \n",
            " 11  capital-loss    32561 non-null  int64 \n",
            " 12  hours-per-week  32561 non-null  int64 \n",
            " 13  native-country  32561 non-null  object\n",
            " 14  income          32561 non-null  object\n",
            "dtypes: int64(6), object(9)\n",
            "memory usage: 3.7+ MB\n",
            "None\n",
            "   age         workclass  fnlwgt  education  education-num  \\\n",
            "0   39         State-gov   77516  Bachelors             13   \n",
            "1   50  Self-emp-not-inc   83311  Bachelors             13   \n",
            "2   38           Private  215646    HS-grad              9   \n",
            "3   53           Private  234721       11th              7   \n",
            "4   28           Private  338409  Bachelors             13   \n",
            "\n",
            "       marital-status         occupation   relationship   race     sex  \\\n",
            "0       Never-married       Adm-clerical  Not-in-family  White    Male   \n",
            "1  Married-civ-spouse    Exec-managerial        Husband  White    Male   \n",
            "2            Divorced  Handlers-cleaners  Not-in-family  White    Male   \n",
            "3  Married-civ-spouse  Handlers-cleaners        Husband  Black    Male   \n",
            "4  Married-civ-spouse     Prof-specialty           Wife  Black  Female   \n",
            "\n",
            "   capital-gain  capital-loss  hours-per-week native-country income  \n",
            "0          2174             0              40  United-States  <=50K  \n",
            "1             0             0              13  United-States  <=50K  \n",
            "2             0             0              40  United-States  <=50K  \n",
            "3             0             0              40  United-States  <=50K  \n",
            "4             0             0              40           Cuba  <=50K  \n"
          ]
        }
      ]
    },
    {
      "cell_type": "code",
      "source": [
        "adult.dtypes"
      ],
      "metadata": {
        "colab": {
          "base_uri": "https://localhost:8080/"
        },
        "id": "V1tJbG4BRSQh",
        "outputId": "c5feb581-8f9d-40ca-9873-65f799cbe65b"
      },
      "execution_count": null,
      "outputs": [
        {
          "output_type": "execute_result",
          "data": {
            "text/plain": [
              "age                int64\n",
              "workclass         object\n",
              "fnlwgt             int64\n",
              "education         object\n",
              "education-num      int64\n",
              "marital-status    object\n",
              "occupation        object\n",
              "relationship      object\n",
              "race              object\n",
              "sex               object\n",
              "capital-gain       int64\n",
              "capital-loss       int64\n",
              "hours-per-week     int64\n",
              "native-country    object\n",
              "income            object\n",
              "dtype: object"
            ]
          },
          "metadata": {},
          "execution_count": 3
        }
      ]
    },
    {
      "cell_type": "code",
      "source": [
        "adult.describe().T.round(2)"
      ],
      "metadata": {
        "colab": {
          "base_uri": "https://localhost:8080/",
          "height": 237
        },
        "id": "v7BGpeSRQpAm",
        "outputId": "fd6a1c19-6d6c-4cd7-fe6d-b4a587317cf8"
      },
      "execution_count": null,
      "outputs": [
        {
          "output_type": "execute_result",
          "data": {
            "text/plain": [
              "                  count       mean        std      min       25%       50%  \\\n",
              "age             32561.0      38.58      13.64     17.0      28.0      37.0   \n",
              "fnlwgt          32561.0  189778.37  105549.98  12285.0  117827.0  178356.0   \n",
              "education-num   32561.0      10.08       2.57      1.0       9.0      10.0   \n",
              "capital-gain    32561.0    1077.65    7385.29      0.0       0.0       0.0   \n",
              "capital-loss    32561.0      87.30     402.96      0.0       0.0       0.0   \n",
              "hours-per-week  32561.0      40.44      12.35      1.0      40.0      40.0   \n",
              "\n",
              "                     75%        max  \n",
              "age                 48.0       90.0  \n",
              "fnlwgt          237051.0  1484705.0  \n",
              "education-num       12.0       16.0  \n",
              "capital-gain         0.0    99999.0  \n",
              "capital-loss         0.0     4356.0  \n",
              "hours-per-week      45.0       99.0  "
            ],
            "text/html": [
              "\n",
              "  <div id=\"df-e4519b32-264a-43ba-b0b9-733bb4e5ae6e\">\n",
              "    <div class=\"colab-df-container\">\n",
              "      <div>\n",
              "<style scoped>\n",
              "    .dataframe tbody tr th:only-of-type {\n",
              "        vertical-align: middle;\n",
              "    }\n",
              "\n",
              "    .dataframe tbody tr th {\n",
              "        vertical-align: top;\n",
              "    }\n",
              "\n",
              "    .dataframe thead th {\n",
              "        text-align: right;\n",
              "    }\n",
              "</style>\n",
              "<table border=\"1\" class=\"dataframe\">\n",
              "  <thead>\n",
              "    <tr style=\"text-align: right;\">\n",
              "      <th></th>\n",
              "      <th>count</th>\n",
              "      <th>mean</th>\n",
              "      <th>std</th>\n",
              "      <th>min</th>\n",
              "      <th>25%</th>\n",
              "      <th>50%</th>\n",
              "      <th>75%</th>\n",
              "      <th>max</th>\n",
              "    </tr>\n",
              "  </thead>\n",
              "  <tbody>\n",
              "    <tr>\n",
              "      <th>age</th>\n",
              "      <td>32561.0</td>\n",
              "      <td>38.58</td>\n",
              "      <td>13.64</td>\n",
              "      <td>17.0</td>\n",
              "      <td>28.0</td>\n",
              "      <td>37.0</td>\n",
              "      <td>48.0</td>\n",
              "      <td>90.0</td>\n",
              "    </tr>\n",
              "    <tr>\n",
              "      <th>fnlwgt</th>\n",
              "      <td>32561.0</td>\n",
              "      <td>189778.37</td>\n",
              "      <td>105549.98</td>\n",
              "      <td>12285.0</td>\n",
              "      <td>117827.0</td>\n",
              "      <td>178356.0</td>\n",
              "      <td>237051.0</td>\n",
              "      <td>1484705.0</td>\n",
              "    </tr>\n",
              "    <tr>\n",
              "      <th>education-num</th>\n",
              "      <td>32561.0</td>\n",
              "      <td>10.08</td>\n",
              "      <td>2.57</td>\n",
              "      <td>1.0</td>\n",
              "      <td>9.0</td>\n",
              "      <td>10.0</td>\n",
              "      <td>12.0</td>\n",
              "      <td>16.0</td>\n",
              "    </tr>\n",
              "    <tr>\n",
              "      <th>capital-gain</th>\n",
              "      <td>32561.0</td>\n",
              "      <td>1077.65</td>\n",
              "      <td>7385.29</td>\n",
              "      <td>0.0</td>\n",
              "      <td>0.0</td>\n",
              "      <td>0.0</td>\n",
              "      <td>0.0</td>\n",
              "      <td>99999.0</td>\n",
              "    </tr>\n",
              "    <tr>\n",
              "      <th>capital-loss</th>\n",
              "      <td>32561.0</td>\n",
              "      <td>87.30</td>\n",
              "      <td>402.96</td>\n",
              "      <td>0.0</td>\n",
              "      <td>0.0</td>\n",
              "      <td>0.0</td>\n",
              "      <td>0.0</td>\n",
              "      <td>4356.0</td>\n",
              "    </tr>\n",
              "    <tr>\n",
              "      <th>hours-per-week</th>\n",
              "      <td>32561.0</td>\n",
              "      <td>40.44</td>\n",
              "      <td>12.35</td>\n",
              "      <td>1.0</td>\n",
              "      <td>40.0</td>\n",
              "      <td>40.0</td>\n",
              "      <td>45.0</td>\n",
              "      <td>99.0</td>\n",
              "    </tr>\n",
              "  </tbody>\n",
              "</table>\n",
              "</div>\n",
              "      <button class=\"colab-df-convert\" onclick=\"convertToInteractive('df-e4519b32-264a-43ba-b0b9-733bb4e5ae6e')\"\n",
              "              title=\"Convert this dataframe to an interactive table.\"\n",
              "              style=\"display:none;\">\n",
              "        \n",
              "  <svg xmlns=\"http://www.w3.org/2000/svg\" height=\"24px\"viewBox=\"0 0 24 24\"\n",
              "       width=\"24px\">\n",
              "    <path d=\"M0 0h24v24H0V0z\" fill=\"none\"/>\n",
              "    <path d=\"M18.56 5.44l.94 2.06.94-2.06 2.06-.94-2.06-.94-.94-2.06-.94 2.06-2.06.94zm-11 1L8.5 8.5l.94-2.06 2.06-.94-2.06-.94L8.5 2.5l-.94 2.06-2.06.94zm10 10l.94 2.06.94-2.06 2.06-.94-2.06-.94-.94-2.06-.94 2.06-2.06.94z\"/><path d=\"M17.41 7.96l-1.37-1.37c-.4-.4-.92-.59-1.43-.59-.52 0-1.04.2-1.43.59L10.3 9.45l-7.72 7.72c-.78.78-.78 2.05 0 2.83L4 21.41c.39.39.9.59 1.41.59.51 0 1.02-.2 1.41-.59l7.78-7.78 2.81-2.81c.8-.78.8-2.07 0-2.86zM5.41 20L4 18.59l7.72-7.72 1.47 1.35L5.41 20z\"/>\n",
              "  </svg>\n",
              "      </button>\n",
              "      \n",
              "  <style>\n",
              "    .colab-df-container {\n",
              "      display:flex;\n",
              "      flex-wrap:wrap;\n",
              "      gap: 12px;\n",
              "    }\n",
              "\n",
              "    .colab-df-convert {\n",
              "      background-color: #E8F0FE;\n",
              "      border: none;\n",
              "      border-radius: 50%;\n",
              "      cursor: pointer;\n",
              "      display: none;\n",
              "      fill: #1967D2;\n",
              "      height: 32px;\n",
              "      padding: 0 0 0 0;\n",
              "      width: 32px;\n",
              "    }\n",
              "\n",
              "    .colab-df-convert:hover {\n",
              "      background-color: #E2EBFA;\n",
              "      box-shadow: 0px 1px 2px rgba(60, 64, 67, 0.3), 0px 1px 3px 1px rgba(60, 64, 67, 0.15);\n",
              "      fill: #174EA6;\n",
              "    }\n",
              "\n",
              "    [theme=dark] .colab-df-convert {\n",
              "      background-color: #3B4455;\n",
              "      fill: #D2E3FC;\n",
              "    }\n",
              "\n",
              "    [theme=dark] .colab-df-convert:hover {\n",
              "      background-color: #434B5C;\n",
              "      box-shadow: 0px 1px 3px 1px rgba(0, 0, 0, 0.15);\n",
              "      filter: drop-shadow(0px 1px 2px rgba(0, 0, 0, 0.3));\n",
              "      fill: #FFFFFF;\n",
              "    }\n",
              "  </style>\n",
              "\n",
              "      <script>\n",
              "        const buttonEl =\n",
              "          document.querySelector('#df-e4519b32-264a-43ba-b0b9-733bb4e5ae6e button.colab-df-convert');\n",
              "        buttonEl.style.display =\n",
              "          google.colab.kernel.accessAllowed ? 'block' : 'none';\n",
              "\n",
              "        async function convertToInteractive(key) {\n",
              "          const element = document.querySelector('#df-e4519b32-264a-43ba-b0b9-733bb4e5ae6e');\n",
              "          const dataTable =\n",
              "            await google.colab.kernel.invokeFunction('convertToInteractive',\n",
              "                                                     [key], {});\n",
              "          if (!dataTable) return;\n",
              "\n",
              "          const docLinkHtml = 'Like what you see? Visit the ' +\n",
              "            '<a target=\"_blank\" href=https://colab.research.google.com/notebooks/data_table.ipynb>data table notebook</a>'\n",
              "            + ' to learn more about interactive tables.';\n",
              "          element.innerHTML = '';\n",
              "          dataTable['output_type'] = 'display_data';\n",
              "          await google.colab.output.renderOutput(dataTable, element);\n",
              "          const docLink = document.createElement('div');\n",
              "          docLink.innerHTML = docLinkHtml;\n",
              "          element.appendChild(docLink);\n",
              "        }\n",
              "      </script>\n",
              "    </div>\n",
              "  </div>\n",
              "  "
            ]
          },
          "metadata": {},
          "execution_count": 4
        }
      ]
    },
    {
      "cell_type": "markdown",
      "source": [
        "## Identificació i tractament de missing values"
      ],
      "metadata": {
        "id": "yU--9zziRKKu"
      }
    },
    {
      "cell_type": "code",
      "source": [
        "adult.isna().sum()"
      ],
      "metadata": {
        "colab": {
          "base_uri": "https://localhost:8080/"
        },
        "id": "vQrz95I3Rb7S",
        "outputId": "b51c116e-04c7-4a58-f4b5-0364d02f2dce"
      },
      "execution_count": null,
      "outputs": [
        {
          "output_type": "execute_result",
          "data": {
            "text/plain": [
              "age               0\n",
              "workclass         0\n",
              "fnlwgt            0\n",
              "education         0\n",
              "education-num     0\n",
              "marital-status    0\n",
              "occupation        0\n",
              "relationship      0\n",
              "race              0\n",
              "sex               0\n",
              "capital-gain      0\n",
              "capital-loss      0\n",
              "hours-per-week    0\n",
              "native-country    0\n",
              "income            0\n",
              "dtype: int64"
            ]
          },
          "metadata": {},
          "execution_count": 5
        }
      ]
    },
    {
      "cell_type": "markdown",
      "source": [
        "A primera vista no hi ha missing values, però si explorem les columnes categòriques veurem que estan codificats amb un **\"?\"**"
      ],
      "metadata": {
        "id": "Z6KqBZzbRlOg"
      }
    },
    {
      "cell_type": "code",
      "source": [
        "adult.workclass.value_counts()"
      ],
      "metadata": {
        "colab": {
          "base_uri": "https://localhost:8080/"
        },
        "id": "tUZzchWvR4Lc",
        "outputId": "79b6ba52-e728-4fa9-a73e-22d43088d0fb"
      },
      "execution_count": null,
      "outputs": [
        {
          "output_type": "execute_result",
          "data": {
            "text/plain": [
              "Private             22696\n",
              "Self-emp-not-inc     2541\n",
              "Local-gov            2093\n",
              "?                    1836\n",
              "State-gov            1298\n",
              "Self-emp-inc         1116\n",
              "Federal-gov           960\n",
              "Without-pay            14\n",
              "Never-worked            7\n",
              "Name: workclass, dtype: int64"
            ]
          },
          "metadata": {},
          "execution_count": 6
        }
      ]
    },
    {
      "cell_type": "code",
      "source": [
        "null_values = (adult == \"?\").sum()\n",
        "print(null_values)"
      ],
      "metadata": {
        "colab": {
          "base_uri": "https://localhost:8080/"
        },
        "id": "3zQ1pnodSEVz",
        "outputId": "9e8284ea-0185-43b0-efdf-a0a7c028adf4"
      },
      "execution_count": null,
      "outputs": [
        {
          "output_type": "stream",
          "name": "stdout",
          "text": [
            "age                  0\n",
            "workclass         1836\n",
            "fnlwgt               0\n",
            "education            0\n",
            "education-num        0\n",
            "marital-status       0\n",
            "occupation        1843\n",
            "relationship         0\n",
            "race                 0\n",
            "sex                  0\n",
            "capital-gain         0\n",
            "capital-loss         0\n",
            "hours-per-week       0\n",
            "native-country     583\n",
            "income               0\n",
            "dtype: int64\n"
          ]
        }
      ]
    },
    {
      "cell_type": "markdown",
      "source": [
        "Calculem el total d'observacions amb 1 o més missing values."
      ],
      "metadata": {
        "id": "8WH5xc7ESMZf"
      }
    },
    {
      "cell_type": "code",
      "source": [
        "len(adult.loc[(adult['workclass']=='?')|(adult['occupation']=='?')|(adult['native-country']=='?')])#també podem reemplaçar la columna country amb la moda"
      ],
      "metadata": {
        "colab": {
          "base_uri": "https://localhost:8080/"
        },
        "id": "Ip2jWgVoSQ58",
        "outputId": "cfe575f3-2512-4445-c080-3ece3c03ea19"
      },
      "execution_count": null,
      "outputs": [
        {
          "output_type": "execute_result",
          "data": {
            "text/plain": [
              "2399"
            ]
          },
          "metadata": {},
          "execution_count": 8
        }
      ]
    },
    {
      "cell_type": "markdown",
      "source": [
        "Podem veure com 2399 de 32561 observacions, el 7.36% contenen missing values. Decidim eliminar-les de manera imparcial, ja que per alguns métodes d'aprenentatge supervisat ni tan sols farem servir la totalitat de les observacions. També es podria reemplaçar cadascún d'ells per la moda de la variable en qüestió."
      ],
      "metadata": {
        "id": "tNGNhN55SZJ-"
      }
    },
    {
      "cell_type": "code",
      "source": [
        "adult_nomissing = adult.loc[(adult['workclass']!='?')&(adult['occupation']!='?')&(adult['native-country']!='?')]\n",
        "print(len(adult_nomissing))"
      ],
      "metadata": {
        "colab": {
          "base_uri": "https://localhost:8080/"
        },
        "id": "Zt_CK-9pSY2Q",
        "outputId": "fa821067-6da9-44d2-fea6-6cc244027582"
      },
      "execution_count": null,
      "outputs": [
        {
          "output_type": "stream",
          "name": "stdout",
          "text": [
            "30162\n"
          ]
        }
      ]
    },
    {
      "cell_type": "markdown",
      "source": [
        "Ens quedem amb 30162 observacions que són més que suficients per SVM."
      ],
      "metadata": {
        "id": "ZfBqqmcjTSnz"
      }
    },
    {
      "cell_type": "code",
      "source": [
        "adult_nomissing.income.value_counts()"
      ],
      "metadata": {
        "colab": {
          "base_uri": "https://localhost:8080/"
        },
        "id": "11v-G3YCTnhP",
        "outputId": "b3602766-4cac-4bec-8ed8-a297d67fb917"
      },
      "execution_count": null,
      "outputs": [
        {
          "output_type": "execute_result",
          "data": {
            "text/plain": [
              "<=50K    22654\n",
              ">50K      7508\n",
              "Name: income, dtype: int64"
            ]
          },
          "metadata": {},
          "execution_count": 10
        }
      ]
    },
    {
      "cell_type": "markdown",
      "source": [
        "Transformem el target binari a 0 i 1:"
      ],
      "metadata": {
        "id": "qpAajt8mUtEN"
      }
    },
    {
      "cell_type": "code",
      "source": [
        "adult_nomissing['income'] = adult_nomissing['income'].replace(['<=50K', '>50K'], [0, 1])\n",
        "print(adult_nomissing.income.value_counts())"
      ],
      "metadata": {
        "colab": {
          "base_uri": "https://localhost:8080/"
        },
        "id": "P67GY_p_U0VQ",
        "outputId": "6f4d9ae9-ebe0-4971-d916-1121a869aee6"
      },
      "execution_count": null,
      "outputs": [
        {
          "output_type": "stream",
          "name": "stdout",
          "text": [
            "0    22654\n",
            "1     7508\n",
            "Name: income, dtype: int64\n"
          ]
        },
        {
          "output_type": "stream",
          "name": "stderr",
          "text": [
            "<ipython-input-11-a18e07f133b5>:1: SettingWithCopyWarning: \n",
            "A value is trying to be set on a copy of a slice from a DataFrame.\n",
            "Try using .loc[row_indexer,col_indexer] = value instead\n",
            "\n",
            "See the caveats in the documentation: https://pandas.pydata.org/pandas-docs/stable/user_guide/indexing.html#returning-a-view-versus-a-copy\n",
            "  adult_nomissing['income']= adult_nomissing['income'].replace(['<=50K', '>50K'], [0, 1])\n"
          ]
        }
      ]
    },
    {
      "cell_type": "markdown",
      "source": [
        "## Assignació de X, y"
      ],
      "metadata": {
        "id": "CYVtHy9mnLvl"
      }
    },
    {
      "cell_type": "code",
      "source": [
        "X = adult_nomissing.iloc[:, :-1]\n",
        "y = adult_nomissing.iloc[:, -1]"
      ],
      "metadata": {
        "id": "OZqR8Df0xmzb"
      },
      "execution_count": null,
      "outputs": []
    },
    {
      "cell_type": "markdown",
      "source": [
        "# Gaussian Naive Bayes"
      ],
      "metadata": {
        "id": "yNQUK77u7i1o"
      }
    },
    {
      "cell_type": "markdown",
      "source": [
        "Com que tenim variables continues i categòriques a la vegada, utilitzem **Gaussian Naive Bayes**."
      ],
      "metadata": {
        "id": "xxDIihlXFGqc"
      }
    },
    {
      "cell_type": "markdown",
      "source": [
        "## One Hot Encoding"
      ],
      "metadata": {
        "id": "ogHcIz9wxTlT"
      }
    },
    {
      "cell_type": "markdown",
      "source": [
        "Apliquem One Hot Encoding a les variables categòriques:"
      ],
      "metadata": {
        "id": "7sQ2kDvOxVBi"
      }
    },
    {
      "cell_type": "code",
      "source": [
        "X_onehot = pd.get_dummies(X, columns=['workclass','education','marital-status','occupation','relationship','race','sex','native-country'],drop_first=True)#one hot categorical columns"
      ],
      "metadata": {
        "id": "D6tTDEDox5E-"
      },
      "execution_count": null,
      "outputs": []
    },
    {
      "cell_type": "markdown",
      "source": [
        "## Train, test split"
      ],
      "metadata": {
        "id": "K0Vty04yyHQw"
      }
    },
    {
      "cell_type": "markdown",
      "source": [
        "Fem una partició estratificada del dataset, 20% destinat al conjunt de validació:"
      ],
      "metadata": {
        "id": "wwMk2s5AyLdN"
      }
    },
    {
      "cell_type": "code",
      "source": [
        "X_train, X_test, y_train, y_test = train_test_split(X_onehot, y, test_size=0.2, random_state=42, stratify=y)"
      ],
      "metadata": {
        "id": "4bd9KdJ5yRCu"
      },
      "execution_count": null,
      "outputs": []
    },
    {
      "cell_type": "markdown",
      "source": [
        "## Gaussian NB optimization"
      ],
      "metadata": {
        "id": "hVq-nw43yhy8"
      }
    },
    {
      "cell_type": "markdown",
      "source": [
        "En GaussianNB l'estimador aprèn la mitjana i la desviació estàndar de cada variable i a l'hora de preedir, la probabilitat d'un valor de pertànyer a una classe va en funció de la seva distància al centre de la distribució. En GaussianNB la funció de densitat de probabilitat utilitzada és la d'una distribució gaussiana de mitjana 0 i variança 1, per tant no cal estandaritzar variables ja que l'estimador ho realitza internament.\n",
        "\n",
        "La mètrica avaluada és l'**accuracy** ja que en aquest cas el que ens interessa és un model que obtingui el **màxim número d'encerts**.\n",
        "\n",
        "Al ser un algorisme d'execució relativament ràpida, aplicarem GridSearchCV múltiples vegades variant la mida dels folds. \n",
        "\n",
        "Seleccionarem el model que resulti en el màxim **score** al conjunt de validació:"
      ],
      "metadata": {
        "id": "ZqOIJ4tN7v-u"
      }
    },
    {
      "cell_type": "code",
      "source": [
        "parameters ={'var_smoothing' : np.logspace(0,-9,100)}\n",
        "scores=[0]"
      ],
      "metadata": {
        "id": "OSDi8JxhGD6e"
      },
      "execution_count": null,
      "outputs": []
    },
    {
      "cell_type": "code",
      "source": [
        "start=time()\n",
        "for i in range(3,6):\n",
        "  print(i)\n",
        "  estimator=GridSearchCV(GaussianNB(), parameters, cv=i,scoring='accuracy',verbose=0)\n",
        "  estimator.fit(X_train, y_train)\n",
        "  if estimator.score(X_test, y_test)>max(scores):\n",
        "    scores.append(estimator.score(X_test, y_test))\n",
        "    best_model=estimator\n",
        "elapsed= time() -start\n",
        "print(elapsed)"
      ],
      "metadata": {
        "colab": {
          "base_uri": "https://localhost:8080/"
        },
        "id": "qShj9WzXGSCV",
        "outputId": "99795112-735b-4ed1-a27d-dbb63dc9acd1"
      },
      "execution_count": null,
      "outputs": [
        {
          "output_type": "stream",
          "name": "stdout",
          "text": [
            "3\n",
            "4\n",
            "5\n",
            "59.447874784469604\n"
          ]
        }
      ]
    },
    {
      "cell_type": "code",
      "source": [
        "print(\"Accuracy del training set:\", round(best_model.score(X_train, y_train)*100,2),\"%\")\n",
        "print(\"Accuracy del test set:\", round(best_model.score(X_test, y_test)*100,2),\"%\")\n",
        "print(best_model.best_params_)"
      ],
      "metadata": {
        "colab": {
          "base_uri": "https://localhost:8080/"
        },
        "id": "gRWDfAwOd34r",
        "outputId": "677e1218-2922-4816-8b32-ae0beb08a5cc"
      },
      "execution_count": null,
      "outputs": [
        {
          "output_type": "stream",
          "name": "stdout",
          "text": [
            "Accuracy del training set: 79.97 %\n",
            "Accuracy del test set: 79.86 %\n",
            "{'var_smoothing': 1e-05}\n"
          ]
        }
      ]
    },
    {
      "cell_type": "code",
      "source": [
        "plot_confusion_matrix(best_model,X_test, y_test,values_format='d',display_labels=['<=50k$','>50k$'])"
      ],
      "metadata": {
        "id": "-T2t6Dhgfmwr",
        "colab": {
          "base_uri": "https://localhost:8080/",
          "height": 351
        },
        "outputId": "e73e7181-aa22-40da-80f5-8ef3b69a496a"
      },
      "execution_count": null,
      "outputs": [
        {
          "output_type": "stream",
          "name": "stderr",
          "text": [
            "/usr/local/lib/python3.8/dist-packages/sklearn/utils/deprecation.py:87: FutureWarning: Function plot_confusion_matrix is deprecated; Function `plot_confusion_matrix` is deprecated in 1.0 and will be removed in 1.2. Use one of the class methods: ConfusionMatrixDisplay.from_predictions or ConfusionMatrixDisplay.from_estimator.\n",
            "  warnings.warn(msg, category=FutureWarning)\n"
          ]
        },
        {
          "output_type": "execute_result",
          "data": {
            "text/plain": [
              "<sklearn.metrics._plot.confusion_matrix.ConfusionMatrixDisplay at 0x7fa441185220>"
            ]
          },
          "metadata": {},
          "execution_count": 464
        },
        {
          "output_type": "display_data",
          "data": {
            "text/plain": [
              "<Figure size 432x288 with 2 Axes>"
            ],
            "image/png": "[encoded data removed]"
          },
          "metadata": {
            "needs_background": "light"
          }
        }
      ]
    },
    {
      "cell_type": "markdown",
      "source": [
        "## Tractament d'outliers"
      ],
      "metadata": {
        "id": "jaR-OuBKKlCi"
      }
    },
    {
      "cell_type": "markdown",
      "source": [
        "En aquest apartat, s'han tractat els outliers de 3 maneres diferents, desprès de cada tractament s'han tornat a executar els 3 apartats anteriors i els resultats han estat que **l'accuracy del model en el conjunt d'entrenament i de validació no ha millorat en cap dels intents**. \n",
        "\n",
        "Els 3 intents realitzats han estat:\n",
        "\n",
        "- Eliminar outliers\n",
        "- Substituïr outliers per la moda\n",
        "- Substituïr outliers per +1.5*IQR o -1.5*IQR\n",
        "\n",
        "El métode que ha donat millors resultats ha estat subtituïr outliers per la moda. L'accuracy del conjunt de validació ha estat del **79.84 %**, quasi idèntica a l'obtinguda **sense tractar outliers del 79.86%**.\n"
      ],
      "metadata": {
        "id": "6dkTBJ4n7Ug2"
      }
    },
    {
      "cell_type": "code",
      "source": [
        "def outlier_detector(datacolumn):\n",
        "    sorted(datacolumn)\n",
        "    Q1,Q3 = np.percentile(datacolumn,[25,75])\n",
        "    IQR = Q3 - Q1\n",
        "    lower_bound = Q1-(1.5*IQR)\n",
        "    upper_bound = Q3+(1.5*IQR)\n",
        "    return lower_bound,upper_bound"
      ],
      "metadata": {
        "id": "rxzPguk8KmRT"
      },
      "execution_count": null,
      "outputs": []
    },
    {
      "cell_type": "code",
      "source": [
        "numeric = ['age', 'fnlwgt', 'education-num', 'hours-per-week']"
      ],
      "metadata": {
        "id": "EFF68fPYLXXR"
      },
      "execution_count": null,
      "outputs": []
    },
    {
      "cell_type": "markdown",
      "source": [
        "Intent 1: Eliminació d'outliers"
      ],
      "metadata": {
        "id": "0RJcUyMi9IUk"
      }
    },
    {
      "cell_type": "code",
      "source": [
        "index=[]\n",
        "for i in numeric:\n",
        "  lowerbound, upperbound = outlier_detector(adult_nomissing[i])\n",
        "  index.append(adult_nomissing.index[(adult_nomissing[i]>upperbound)|(adult_nomissing[i]<lowerbound)].to_list())\n",
        "flat_index = [item for sublist in index for item in sublist]\n",
        "print(\"Número d'outliers:\",len(set(flat_index)))"
      ],
      "metadata": {
        "colab": {
          "base_uri": "https://localhost:8080/"
        },
        "id": "8x7ff4KF21Pm",
        "outputId": "0b269986-fe18-46c9-943f-dd48379e9da8"
      },
      "execution_count": null,
      "outputs": [
        {
          "output_type": "stream",
          "name": "stdout",
          "text": [
            "Número d'outliers: 8834\n"
          ]
        }
      ]
    },
    {
      "cell_type": "code",
      "source": [
        "adult_nomissing.drop(flat_index, axis=0,inplace=True)\n",
        "adult_nomissing.reset_index(inplace=True)\n",
        "print(adult_nomissing.info())"
      ],
      "metadata": {
        "colab": {
          "base_uri": "https://localhost:8080/"
        },
        "id": "LVcMmjXL61xJ",
        "outputId": "9f26bd94-6c17-4e6c-bd4c-a49425776fca"
      },
      "execution_count": null,
      "outputs": [
        {
          "output_type": "stream",
          "name": "stdout",
          "text": [
            "<class 'pandas.core.frame.DataFrame'>\n",
            "RangeIndex: 21328 entries, 0 to 21327\n",
            "Data columns (total 16 columns):\n",
            " #   Column          Non-Null Count  Dtype \n",
            "---  ------          --------------  ----- \n",
            " 0   index           21328 non-null  int64 \n",
            " 1   age             21328 non-null  int64 \n",
            " 2   workclass       21328 non-null  object\n",
            " 3   fnlwgt          21328 non-null  int64 \n",
            " 4   education       21328 non-null  object\n",
            " 5   education-num   21328 non-null  int64 \n",
            " 6   marital-status  21328 non-null  object\n",
            " 7   occupation      21328 non-null  object\n",
            " 8   relationship    21328 non-null  object\n",
            " 9   race            21328 non-null  object\n",
            " 10  sex             21328 non-null  object\n",
            " 11  capital-gain    21328 non-null  int64 \n",
            " 12  capital-loss    21328 non-null  int64 \n",
            " 13  hours-per-week  21328 non-null  int64 \n",
            " 14  native-country  21328 non-null  object\n",
            " 15  income          21328 non-null  int64 \n",
            "dtypes: int64(8), object(8)\n",
            "memory usage: 2.6+ MB\n",
            "None\n"
          ]
        },
        {
          "output_type": "stream",
          "name": "stderr",
          "text": [
            "/usr/local/lib/python3.8/dist-packages/pandas/core/frame.py:4906: SettingWithCopyWarning: \n",
            "A value is trying to be set on a copy of a slice from a DataFrame\n",
            "\n",
            "See the caveats in the documentation: https://pandas.pydata.org/pandas-docs/stable/user_guide/indexing.html#returning-a-view-versus-a-copy\n",
            "  return super().drop(\n"
          ]
        }
      ]
    },
    {
      "cell_type": "markdown",
      "source": [
        "Intent 2: Reemplaçar outliers per la moda"
      ],
      "metadata": {
        "id": "3rU9mwv8Lk8q"
      }
    },
    {
      "cell_type": "code",
      "source": [
        "for i in numeric:\n",
        "    lowerbound, upperbound = outlier_detector(adult_nomissing[i])\n",
        "    median = adult_nomissing[i].median()\n",
        "    adult_nomissing.loc[((adult_nomissing[i] > upperbound)|(adult_nomissing[i] < lowerbound)), i] = median"
      ],
      "metadata": {
        "colab": {
          "base_uri": "https://localhost:8080/"
        },
        "id": "dPMVFR8wLm7L",
        "outputId": "37801451-125d-4c45-a200-e761d9b5a0de"
      },
      "execution_count": null,
      "outputs": [
        {
          "output_type": "stream",
          "name": "stderr",
          "text": [
            "/usr/local/lib/python3.8/dist-packages/pandas/core/indexing.py:1817: SettingWithCopyWarning: \n",
            "A value is trying to be set on a copy of a slice from a DataFrame.\n",
            "Try using .loc[row_indexer,col_indexer] = value instead\n",
            "\n",
            "See the caveats in the documentation: https://pandas.pydata.org/pandas-docs/stable/user_guide/indexing.html#returning-a-view-versus-a-copy\n",
            "  self._setitem_single_column(loc, value, pi)\n",
            "/usr/local/lib/python3.8/dist-packages/pandas/core/indexing.py:1817: SettingWithCopyWarning: \n",
            "A value is trying to be set on a copy of a slice from a DataFrame.\n",
            "Try using .loc[row_indexer,col_indexer] = value instead\n",
            "\n",
            "See the caveats in the documentation: https://pandas.pydata.org/pandas-docs/stable/user_guide/indexing.html#returning-a-view-versus-a-copy\n",
            "  self._setitem_single_column(loc, value, pi)\n",
            "/usr/local/lib/python3.8/dist-packages/pandas/core/indexing.py:1817: SettingWithCopyWarning: \n",
            "A value is trying to be set on a copy of a slice from a DataFrame.\n",
            "Try using .loc[row_indexer,col_indexer] = value instead\n",
            "\n",
            "See the caveats in the documentation: https://pandas.pydata.org/pandas-docs/stable/user_guide/indexing.html#returning-a-view-versus-a-copy\n",
            "  self._setitem_single_column(loc, value, pi)\n",
            "/usr/local/lib/python3.8/dist-packages/pandas/core/indexing.py:1817: SettingWithCopyWarning: \n",
            "A value is trying to be set on a copy of a slice from a DataFrame.\n",
            "Try using .loc[row_indexer,col_indexer] = value instead\n",
            "\n",
            "See the caveats in the documentation: https://pandas.pydata.org/pandas-docs/stable/user_guide/indexing.html#returning-a-view-versus-a-copy\n",
            "  self._setitem_single_column(loc, value, pi)\n"
          ]
        }
      ]
    },
    {
      "cell_type": "markdown",
      "source": [
        "Intent 3: Reemplaçar outliers per 1.5 vegades la distància interquartil"
      ],
      "metadata": {
        "id": "9D6ssmwF96fQ"
      }
    },
    {
      "cell_type": "code",
      "source": [
        "for i in numeric:\n",
        "    lowerbound, upperbound = outlier_detector(adult_nomissing[i])\n",
        "    adult_nomissing.loc[(adult_nomissing[i] > upperbound), i] = upperbound\n",
        "    adult_nomissing.loc[(adult_nomissing[i] < lowerbound), i] = lowerbound"
      ],
      "metadata": {
        "colab": {
          "base_uri": "https://localhost:8080/"
        },
        "id": "RvWsjhLFsZY-",
        "outputId": "2fd631a2-c517-47b9-8d0d-d734a01086ce"
      },
      "execution_count": null,
      "outputs": [
        {
          "output_type": "stream",
          "name": "stderr",
          "text": [
            "/usr/local/lib/python3.8/dist-packages/pandas/core/indexing.py:1817: SettingWithCopyWarning: \n",
            "A value is trying to be set on a copy of a slice from a DataFrame.\n",
            "Try using .loc[row_indexer,col_indexer] = value instead\n",
            "\n",
            "See the caveats in the documentation: https://pandas.pydata.org/pandas-docs/stable/user_guide/indexing.html#returning-a-view-versus-a-copy\n",
            "  self._setitem_single_column(loc, value, pi)\n"
          ]
        }
      ]
    },
    {
      "cell_type": "markdown",
      "source": [
        "# KNN"
      ],
      "metadata": {
        "id": "tbBSCuBNTlbo"
      }
    },
    {
      "cell_type": "markdown",
      "source": [
        "## Label encoding"
      ],
      "metadata": {
        "id": "3_oX1HQ1GH3e"
      }
    },
    {
      "cell_type": "code",
      "source": [
        "categorical = ['workclass','education','marital-status','occupation','relationship','race','sex','native-country']"
      ],
      "metadata": {
        "id": "lUuRorStvbnm"
      },
      "execution_count": null,
      "outputs": []
    },
    {
      "cell_type": "code",
      "source": [
        "label_encoder = LabelEncoder()\n",
        "X_label=X.copy()\n",
        "for i in categorical:\n",
        "    X_label[i] = label_encoder.fit_transform(X[i])\n",
        "X_label.head()"
      ],
      "metadata": {
        "colab": {
          "base_uri": "https://localhost:8080/",
          "height": 305
        },
        "id": "zQFJvkfxG5bK",
        "outputId": "557c3771-0c0d-4055-c76b-5a727eb55cb8"
      },
      "execution_count": null,
      "outputs": [
        {
          "output_type": "execute_result",
          "data": {
            "text/plain": [
              "   age  workclass  fnlwgt  education  education-num  marital-status  \\\n",
              "0   39          5   77516          9             13               4   \n",
              "1   50          4   83311          9             13               2   \n",
              "2   38          2  215646         11              9               0   \n",
              "3   53          2  234721          1              7               2   \n",
              "4   28          2  338409          9             13               2   \n",
              "\n",
              "   occupation  relationship  race  sex  capital-gain  capital-loss  \\\n",
              "0           0             1     4    1          2174             0   \n",
              "1           3             0     4    1             0             0   \n",
              "2           5             1     4    1             0             0   \n",
              "3           5             0     2    1             0             0   \n",
              "4           9             5     2    0             0             0   \n",
              "\n",
              "   hours-per-week  native-country  \n",
              "0              40              38  \n",
              "1              13              38  \n",
              "2              40              38  \n",
              "3              40              38  \n",
              "4              40               4  "
            ],
            "text/html": [
              "\n",
              "  <div id=\"df-73fe0992-2a26-4283-94ac-51ec54362f60\">\n",
              "    <div class=\"colab-df-container\">\n",
              "      <div>\n",
              "<style scoped>\n",
              "    .dataframe tbody tr th:only-of-type {\n",
              "        vertical-align: middle;\n",
              "    }\n",
              "\n",
              "    .dataframe tbody tr th {\n",
              "        vertical-align: top;\n",
              "    }\n",
              "\n",
              "    .dataframe thead th {\n",
              "        text-align: right;\n",
              "    }\n",
              "</style>\n",
              "<table border=\"1\" class=\"dataframe\">\n",
              "  <thead>\n",
              "    <tr style=\"text-align: right;\">\n",
              "      <th></th>\n",
              "      <th>age</th>\n",
              "      <th>workclass</th>\n",
              "      <th>fnlwgt</th>\n",
              "      <th>education</th>\n",
              "      <th>education-num</th>\n",
              "      <th>marital-status</th>\n",
              "      <th>occupation</th>\n",
              "      <th>relationship</th>\n",
              "      <th>race</th>\n",
              "      <th>sex</th>\n",
              "      <th>capital-gain</th>\n",
              "      <th>capital-loss</th>\n",
              "      <th>hours-per-week</th>\n",
              "      <th>native-country</th>\n",
              "    </tr>\n",
              "  </thead>\n",
              "  <tbody>\n",
              "    <tr>\n",
              "      <th>0</th>\n",
              "      <td>39</td>\n",
              "      <td>5</td>\n",
              "      <td>77516</td>\n",
              "      <td>9</td>\n",
              "      <td>13</td>\n",
              "      <td>4</td>\n",
              "      <td>0</td>\n",
              "      <td>1</td>\n",
              "      <td>4</td>\n",
              "      <td>1</td>\n",
              "      <td>2174</td>\n",
              "      <td>0</td>\n",
              "      <td>40</td>\n",
              "      <td>38</td>\n",
              "    </tr>\n",
              "    <tr>\n",
              "      <th>1</th>\n",
              "      <td>50</td>\n",
              "      <td>4</td>\n",
              "      <td>83311</td>\n",
              "      <td>9</td>\n",
              "      <td>13</td>\n",
              "      <td>2</td>\n",
              "      <td>3</td>\n",
              "      <td>0</td>\n",
              "      <td>4</td>\n",
              "      <td>1</td>\n",
              "      <td>0</td>\n",
              "      <td>0</td>\n",
              "      <td>13</td>\n",
              "      <td>38</td>\n",
              "    </tr>\n",
              "    <tr>\n",
              "      <th>2</th>\n",
              "      <td>38</td>\n",
              "      <td>2</td>\n",
              "      <td>215646</td>\n",
              "      <td>11</td>\n",
              "      <td>9</td>\n",
              "      <td>0</td>\n",
              "      <td>5</td>\n",
              "      <td>1</td>\n",
              "      <td>4</td>\n",
              "      <td>1</td>\n",
              "      <td>0</td>\n",
              "      <td>0</td>\n",
              "      <td>40</td>\n",
              "      <td>38</td>\n",
              "    </tr>\n",
              "    <tr>\n",
              "      <th>3</th>\n",
              "      <td>53</td>\n",
              "      <td>2</td>\n",
              "      <td>234721</td>\n",
              "      <td>1</td>\n",
              "      <td>7</td>\n",
              "      <td>2</td>\n",
              "      <td>5</td>\n",
              "      <td>0</td>\n",
              "      <td>2</td>\n",
              "      <td>1</td>\n",
              "      <td>0</td>\n",
              "      <td>0</td>\n",
              "      <td>40</td>\n",
              "      <td>38</td>\n",
              "    </tr>\n",
              "    <tr>\n",
              "      <th>4</th>\n",
              "      <td>28</td>\n",
              "      <td>2</td>\n",
              "      <td>338409</td>\n",
              "      <td>9</td>\n",
              "      <td>13</td>\n",
              "      <td>2</td>\n",
              "      <td>9</td>\n",
              "      <td>5</td>\n",
              "      <td>2</td>\n",
              "      <td>0</td>\n",
              "      <td>0</td>\n",
              "      <td>0</td>\n",
              "      <td>40</td>\n",
              "      <td>4</td>\n",
              "    </tr>\n",
              "  </tbody>\n",
              "</table>\n",
              "</div>\n",
              "      <button class=\"colab-df-convert\" onclick=\"convertToInteractive('df-73fe0992-2a26-4283-94ac-51ec54362f60')\"\n",
              "              title=\"Convert this dataframe to an interactive table.\"\n",
              "              style=\"display:none;\">\n",
              "        \n",
              "  <svg xmlns=\"http://www.w3.org/2000/svg\" height=\"24px\"viewBox=\"0 0 24 24\"\n",
              "       width=\"24px\">\n",
              "    <path d=\"M0 0h24v24H0V0z\" fill=\"none\"/>\n",
              "    <path d=\"M18.56 5.44l.94 2.06.94-2.06 2.06-.94-2.06-.94-.94-2.06-.94 2.06-2.06.94zm-11 1L8.5 8.5l.94-2.06 2.06-.94-2.06-.94L8.5 2.5l-.94 2.06-2.06.94zm10 10l.94 2.06.94-2.06 2.06-.94-2.06-.94-.94-2.06-.94 2.06-2.06.94z\"/><path d=\"M17.41 7.96l-1.37-1.37c-.4-.4-.92-.59-1.43-.59-.52 0-1.04.2-1.43.59L10.3 9.45l-7.72 7.72c-.78.78-.78 2.05 0 2.83L4 21.41c.39.39.9.59 1.41.59.51 0 1.02-.2 1.41-.59l7.78-7.78 2.81-2.81c.8-.78.8-2.07 0-2.86zM5.41 20L4 18.59l7.72-7.72 1.47 1.35L5.41 20z\"/>\n",
              "  </svg>\n",
              "      </button>\n",
              "      \n",
              "  <style>\n",
              "    .colab-df-container {\n",
              "      display:flex;\n",
              "      flex-wrap:wrap;\n",
              "      gap: 12px;\n",
              "    }\n",
              "\n",
              "    .colab-df-convert {\n",
              "      background-color: #E8F0FE;\n",
              "      border: none;\n",
              "      border-radius: 50%;\n",
              "      cursor: pointer;\n",
              "      display: none;\n",
              "      fill: #1967D2;\n",
              "      height: 32px;\n",
              "      padding: 0 0 0 0;\n",
              "      width: 32px;\n",
              "    }\n",
              "\n",
              "    .colab-df-convert:hover {\n",
              "      background-color: #E2EBFA;\n",
              "      box-shadow: 0px 1px 2px rgba(60, 64, 67, 0.3), 0px 1px 3px 1px rgba(60, 64, 67, 0.15);\n",
              "      fill: #174EA6;\n",
              "    }\n",
              "\n",
              "    [theme=dark] .colab-df-convert {\n",
              "      background-color: #3B4455;\n",
              "      fill: #D2E3FC;\n",
              "    }\n",
              "\n",
              "    [theme=dark] .colab-df-convert:hover {\n",
              "      background-color: #434B5C;\n",
              "      box-shadow: 0px 1px 3px 1px rgba(0, 0, 0, 0.15);\n",
              "      filter: drop-shadow(0px 1px 2px rgba(0, 0, 0, 0.3));\n",
              "      fill: #FFFFFF;\n",
              "    }\n",
              "  </style>\n",
              "\n",
              "      <script>\n",
              "        const buttonEl =\n",
              "          document.querySelector('#df-73fe0992-2a26-4283-94ac-51ec54362f60 button.colab-df-convert');\n",
              "        buttonEl.style.display =\n",
              "          google.colab.kernel.accessAllowed ? 'block' : 'none';\n",
              "\n",
              "        async function convertToInteractive(key) {\n",
              "          const element = document.querySelector('#df-73fe0992-2a26-4283-94ac-51ec54362f60');\n",
              "          const dataTable =\n",
              "            await google.colab.kernel.invokeFunction('convertToInteractive',\n",
              "                                                     [key], {});\n",
              "          if (!dataTable) return;\n",
              "\n",
              "          const docLinkHtml = 'Like what you see? Visit the ' +\n",
              "            '<a target=\"_blank\" href=https://colab.research.google.com/notebooks/data_table.ipynb>data table notebook</a>'\n",
              "            + ' to learn more about interactive tables.';\n",
              "          element.innerHTML = '';\n",
              "          dataTable['output_type'] = 'display_data';\n",
              "          await google.colab.output.renderOutput(dataTable, element);\n",
              "          const docLink = document.createElement('div');\n",
              "          docLink.innerHTML = docLinkHtml;\n",
              "          element.appendChild(docLink);\n",
              "        }\n",
              "      </script>\n",
              "    </div>\n",
              "  </div>\n",
              "  "
            ]
          },
          "metadata": {},
          "execution_count": 14
        }
      ]
    },
    {
      "cell_type": "code",
      "source": [
        "X_label.info()"
      ],
      "metadata": {
        "colab": {
          "base_uri": "https://localhost:8080/"
        },
        "id": "UTBj3EXrJWDa",
        "outputId": "685b883b-4d1d-4f12-f25a-094bf6773ada"
      },
      "execution_count": null,
      "outputs": [
        {
          "output_type": "stream",
          "name": "stdout",
          "text": [
            "<class 'pandas.core.frame.DataFrame'>\n",
            "Int64Index: 30162 entries, 0 to 32560\n",
            "Data columns (total 14 columns):\n",
            " #   Column          Non-Null Count  Dtype\n",
            "---  ------          --------------  -----\n",
            " 0   age             30162 non-null  int64\n",
            " 1   workclass       30162 non-null  int64\n",
            " 2   fnlwgt          30162 non-null  int64\n",
            " 3   education       30162 non-null  int64\n",
            " 4   education-num   30162 non-null  int64\n",
            " 5   marital-status  30162 non-null  int64\n",
            " 6   occupation      30162 non-null  int64\n",
            " 7   relationship    30162 non-null  int64\n",
            " 8   race            30162 non-null  int64\n",
            " 9   sex             30162 non-null  int64\n",
            " 10  capital-gain    30162 non-null  int64\n",
            " 11  capital-loss    30162 non-null  int64\n",
            " 12  hours-per-week  30162 non-null  int64\n",
            " 13  native-country  30162 non-null  int64\n",
            "dtypes: int64(14)\n",
            "memory usage: 3.5 MB\n"
          ]
        }
      ]
    },
    {
      "cell_type": "markdown",
      "source": [
        "## Train, test split"
      ],
      "metadata": {
        "id": "V-GTMRjcLir_"
      }
    },
    {
      "cell_type": "markdown",
      "source": [
        "Fem una partició estratificada del dataset, 20% destinat al conjunt de validació:"
      ],
      "metadata": {
        "id": "-HCVXC8_MATJ"
      }
    },
    {
      "cell_type": "code",
      "source": [
        "X_label_train, X_label_test, y_label_train, y_label_test = train_test_split(X_label, y, test_size=0.2, random_state=42, stratify=y)"
      ],
      "metadata": {
        "id": "qePaznXPMD0Y"
      },
      "execution_count": null,
      "outputs": []
    },
    {
      "cell_type": "markdown",
      "source": [
        "## Escalat de dades"
      ],
      "metadata": {
        "id": "y2JgV40yMcDu"
      }
    },
    {
      "cell_type": "markdown",
      "source": [
        "Un cop transformades les variables categòriques i realitzada la partició, procedim a normalitzar les númeriques, ja que tots els algorismes basats en distàncies funcionen millor quan les variables tenen el mateix rang de valors i aquests són petits. \n",
        "\n",
        "Aquí es poden provar varis métodes, en aquest cas utilitzarem MinMaxScaler però també es podrien fer proves amb MaxAbsScaler per exemple."
      ],
      "metadata": {
        "id": "N9TckTqXMhCT"
      }
    },
    {
      "cell_type": "code",
      "source": [
        "sc = MinMaxScaler()\n",
        "scaler = sc.fit(X_label_train)"
      ],
      "metadata": {
        "id": "bsq4mjd-Sid5"
      },
      "execution_count": null,
      "outputs": []
    },
    {
      "cell_type": "code",
      "source": [
        "X_label_train_sc = pd.DataFrame(scaler.transform(X_label_train.values),columns=columns[:-1], index=X_label_train.index)\n",
        "X_label_test_sc = pd.DataFrame(scaler.transform(X_label_test.values),columns=columns[:-1], index=X_label_test.index)"
      ],
      "metadata": {
        "colab": {
          "base_uri": "https://localhost:8080/"
        },
        "id": "oC3X1TP-SbtH",
        "outputId": "80f30b0d-3264-4f93-ba05-586eba420154"
      },
      "execution_count": null,
      "outputs": [
        {
          "output_type": "stream",
          "name": "stderr",
          "text": [
            "/usr/local/lib/python3.8/dist-packages/sklearn/base.py:450: UserWarning: X does not have valid feature names, but MinMaxScaler was fitted with feature names\n",
            "  warnings.warn(\n",
            "/usr/local/lib/python3.8/dist-packages/sklearn/base.py:450: UserWarning: X does not have valid feature names, but MinMaxScaler was fitted with feature names\n",
            "  warnings.warn(\n"
          ]
        }
      ]
    },
    {
      "cell_type": "code",
      "source": [
        "X_label_train_sc.describe().T"
      ],
      "metadata": {
        "colab": {
          "base_uri": "https://localhost:8080/",
          "height": 488
        },
        "id": "98G0a3QCWlFh",
        "outputId": "e8b169ac-3d29-45b7-c35d-fa5dbe563208"
      },
      "execution_count": null,
      "outputs": [
        {
          "output_type": "execute_result",
          "data": {
            "text/plain": [
              "                  count      mean       std  min       25%       50%  \\\n",
              "age             24129.0  0.294257  0.179266  0.0  0.150685  0.273973   \n",
              "workclass       24129.0  0.366488  0.159772  0.0  0.333333  0.333333   \n",
              "fnlwgt          24129.0  0.122355  0.073491  0.0  0.072228  0.114229   \n",
              "education       24129.0  0.688364  0.254493  0.0  0.600000  0.733333   \n",
              "education-num   24129.0  0.608300  0.170383  0.0  0.533333  0.600000   \n",
              "marital-status  24129.0  0.428205  0.249822  0.0  0.333333  0.333333   \n",
              "occupation      24129.0  0.460200  0.309694  0.0  0.153846  0.461538   \n",
              "relationship    24129.0  0.281097  0.319048  0.0  0.000000  0.200000   \n",
              "race            24129.0  0.919972  0.207897  0.0  1.000000  1.000000   \n",
              "sex             24129.0  0.676157  0.467951  0.0  0.000000  1.000000   \n",
              "capital-gain    24129.0  0.011100  0.075715  0.0  0.000000  0.000000   \n",
              "capital-loss    24129.0  0.020883  0.094224  0.0  0.000000  0.000000   \n",
              "hours-per-week  24129.0  0.407710  0.122643  0.0  0.397959  0.397959   \n",
              "native-country  24129.0  0.908867  0.154222  0.0  0.950000  0.950000   \n",
              "\n",
              "                     75%  max  \n",
              "age             0.410959  1.0  \n",
              "workclass       0.333333  1.0  \n",
              "fnlwgt          0.155431  1.0  \n",
              "education       0.800000  1.0  \n",
              "education-num   0.800000  1.0  \n",
              "marital-status  0.666667  1.0  \n",
              "occupation      0.692308  1.0  \n",
              "relationship    0.600000  1.0  \n",
              "race            1.000000  1.0  \n",
              "sex             1.000000  1.0  \n",
              "capital-gain    0.000000  1.0  \n",
              "capital-loss    0.000000  1.0  \n",
              "hours-per-week  0.448980  1.0  \n",
              "native-country  0.950000  1.0  "
            ],
            "text/html": [
              "\n",
              "  <div id=\"df-454efea9-a0b8-4a6e-b55c-857b0c613f18\">\n",
              "    <div class=\"colab-df-container\">\n",
              "      <div>\n",
              "<style scoped>\n",
              "    .dataframe tbody tr th:only-of-type {\n",
              "        vertical-align: middle;\n",
              "    }\n",
              "\n",
              "    .dataframe tbody tr th {\n",
              "        vertical-align: top;\n",
              "    }\n",
              "\n",
              "    .dataframe thead th {\n",
              "        text-align: right;\n",
              "    }\n",
              "</style>\n",
              "<table border=\"1\" class=\"dataframe\">\n",
              "  <thead>\n",
              "    <tr style=\"text-align: right;\">\n",
              "      <th></th>\n",
              "      <th>count</th>\n",
              "      <th>mean</th>\n",
              "      <th>std</th>\n",
              "      <th>min</th>\n",
              "      <th>25%</th>\n",
              "      <th>50%</th>\n",
              "      <th>75%</th>\n",
              "      <th>max</th>\n",
              "    </tr>\n",
              "  </thead>\n",
              "  <tbody>\n",
              "    <tr>\n",
              "      <th>age</th>\n",
              "      <td>24129.0</td>\n",
              "      <td>0.294257</td>\n",
              "      <td>0.179266</td>\n",
              "      <td>0.0</td>\n",
              "      <td>0.150685</td>\n",
              "      <td>0.273973</td>\n",
              "      <td>0.410959</td>\n",
              "      <td>1.0</td>\n",
              "    </tr>\n",
              "    <tr>\n",
              "      <th>workclass</th>\n",
              "      <td>24129.0</td>\n",
              "      <td>0.366488</td>\n",
              "      <td>0.159772</td>\n",
              "      <td>0.0</td>\n",
              "      <td>0.333333</td>\n",
              "      <td>0.333333</td>\n",
              "      <td>0.333333</td>\n",
              "      <td>1.0</td>\n",
              "    </tr>\n",
              "    <tr>\n",
              "      <th>fnlwgt</th>\n",
              "      <td>24129.0</td>\n",
              "      <td>0.122355</td>\n",
              "      <td>0.073491</td>\n",
              "      <td>0.0</td>\n",
              "      <td>0.072228</td>\n",
              "      <td>0.114229</td>\n",
              "      <td>0.155431</td>\n",
              "      <td>1.0</td>\n",
              "    </tr>\n",
              "    <tr>\n",
              "      <th>education</th>\n",
              "      <td>24129.0</td>\n",
              "      <td>0.688364</td>\n",
              "      <td>0.254493</td>\n",
              "      <td>0.0</td>\n",
              "      <td>0.600000</td>\n",
              "      <td>0.733333</td>\n",
              "      <td>0.800000</td>\n",
              "      <td>1.0</td>\n",
              "    </tr>\n",
              "    <tr>\n",
              "      <th>education-num</th>\n",
              "      <td>24129.0</td>\n",
              "      <td>0.608300</td>\n",
              "      <td>0.170383</td>\n",
              "      <td>0.0</td>\n",
              "      <td>0.533333</td>\n",
              "      <td>0.600000</td>\n",
              "      <td>0.800000</td>\n",
              "      <td>1.0</td>\n",
              "    </tr>\n",
              "    <tr>\n",
              "      <th>marital-status</th>\n",
              "      <td>24129.0</td>\n",
              "      <td>0.428205</td>\n",
              "      <td>0.249822</td>\n",
              "      <td>0.0</td>\n",
              "      <td>0.333333</td>\n",
              "      <td>0.333333</td>\n",
              "      <td>0.666667</td>\n",
              "      <td>1.0</td>\n",
              "    </tr>\n",
              "    <tr>\n",
              "      <th>occupation</th>\n",
              "      <td>24129.0</td>\n",
              "      <td>0.460200</td>\n",
              "      <td>0.309694</td>\n",
              "      <td>0.0</td>\n",
              "      <td>0.153846</td>\n",
              "      <td>0.461538</td>\n",
              "      <td>0.692308</td>\n",
              "      <td>1.0</td>\n",
              "    </tr>\n",
              "    <tr>\n",
              "      <th>relationship</th>\n",
              "      <td>24129.0</td>\n",
              "      <td>0.281097</td>\n",
              "      <td>0.319048</td>\n",
              "      <td>0.0</td>\n",
              "      <td>0.000000</td>\n",
              "      <td>0.200000</td>\n",
              "      <td>0.600000</td>\n",
              "      <td>1.0</td>\n",
              "    </tr>\n",
              "    <tr>\n",
              "      <th>race</th>\n",
              "      <td>24129.0</td>\n",
              "      <td>0.919972</td>\n",
              "      <td>0.207897</td>\n",
              "      <td>0.0</td>\n",
              "      <td>1.000000</td>\n",
              "      <td>1.000000</td>\n",
              "      <td>1.000000</td>\n",
              "      <td>1.0</td>\n",
              "    </tr>\n",
              "    <tr>\n",
              "      <th>sex</th>\n",
              "      <td>24129.0</td>\n",
              "      <td>0.676157</td>\n",
              "      <td>0.467951</td>\n",
              "      <td>0.0</td>\n",
              "      <td>0.000000</td>\n",
              "      <td>1.000000</td>\n",
              "      <td>1.000000</td>\n",
              "      <td>1.0</td>\n",
              "    </tr>\n",
              "    <tr>\n",
              "      <th>capital-gain</th>\n",
              "      <td>24129.0</td>\n",
              "      <td>0.011100</td>\n",
              "      <td>0.075715</td>\n",
              "      <td>0.0</td>\n",
              "      <td>0.000000</td>\n",
              "      <td>0.000000</td>\n",
              "      <td>0.000000</td>\n",
              "      <td>1.0</td>\n",
              "    </tr>\n",
              "    <tr>\n",
              "      <th>capital-loss</th>\n",
              "      <td>24129.0</td>\n",
              "      <td>0.020883</td>\n",
              "      <td>0.094224</td>\n",
              "      <td>0.0</td>\n",
              "      <td>0.000000</td>\n",
              "      <td>0.000000</td>\n",
              "      <td>0.000000</td>\n",
              "      <td>1.0</td>\n",
              "    </tr>\n",
              "    <tr>\n",
              "      <th>hours-per-week</th>\n",
              "      <td>24129.0</td>\n",
              "      <td>0.407710</td>\n",
              "      <td>0.122643</td>\n",
              "      <td>0.0</td>\n",
              "      <td>0.397959</td>\n",
              "      <td>0.397959</td>\n",
              "      <td>0.448980</td>\n",
              "      <td>1.0</td>\n",
              "    </tr>\n",
              "    <tr>\n",
              "      <th>native-country</th>\n",
              "      <td>24129.0</td>\n",
              "      <td>0.908867</td>\n",
              "      <td>0.154222</td>\n",
              "      <td>0.0</td>\n",
              "      <td>0.950000</td>\n",
              "      <td>0.950000</td>\n",
              "      <td>0.950000</td>\n",
              "      <td>1.0</td>\n",
              "    </tr>\n",
              "  </tbody>\n",
              "</table>\n",
              "</div>\n",
              "      <button class=\"colab-df-convert\" onclick=\"convertToInteractive('df-454efea9-a0b8-4a6e-b55c-857b0c613f18')\"\n",
              "              title=\"Convert this dataframe to an interactive table.\"\n",
              "              style=\"display:none;\">\n",
              "        \n",
              "  <svg xmlns=\"http://www.w3.org/2000/svg\" height=\"24px\"viewBox=\"0 0 24 24\"\n",
              "       width=\"24px\">\n",
              "    <path d=\"M0 0h24v24H0V0z\" fill=\"none\"/>\n",
              "    <path d=\"M18.56 5.44l.94 2.06.94-2.06 2.06-.94-2.06-.94-.94-2.06-.94 2.06-2.06.94zm-11 1L8.5 8.5l.94-2.06 2.06-.94-2.06-.94L8.5 2.5l-.94 2.06-2.06.94zm10 10l.94 2.06.94-2.06 2.06-.94-2.06-.94-.94-2.06-.94 2.06-2.06.94z\"/><path d=\"M17.41 7.96l-1.37-1.37c-.4-.4-.92-.59-1.43-.59-.52 0-1.04.2-1.43.59L10.3 9.45l-7.72 7.72c-.78.78-.78 2.05 0 2.83L4 21.41c.39.39.9.59 1.41.59.51 0 1.02-.2 1.41-.59l7.78-7.78 2.81-2.81c.8-.78.8-2.07 0-2.86zM5.41 20L4 18.59l7.72-7.72 1.47 1.35L5.41 20z\"/>\n",
              "  </svg>\n",
              "      </button>\n",
              "      \n",
              "  <style>\n",
              "    .colab-df-container {\n",
              "      display:flex;\n",
              "      flex-wrap:wrap;\n",
              "      gap: 12px;\n",
              "    }\n",
              "\n",
              "    .colab-df-convert {\n",
              "      background-color: #E8F0FE;\n",
              "      border: none;\n",
              "      border-radius: 50%;\n",
              "      cursor: pointer;\n",
              "      display: none;\n",
              "      fill: #1967D2;\n",
              "      height: 32px;\n",
              "      padding: 0 0 0 0;\n",
              "      width: 32px;\n",
              "    }\n",
              "\n",
              "    .colab-df-convert:hover {\n",
              "      background-color: #E2EBFA;\n",
              "      box-shadow: 0px 1px 2px rgba(60, 64, 67, 0.3), 0px 1px 3px 1px rgba(60, 64, 67, 0.15);\n",
              "      fill: #174EA6;\n",
              "    }\n",
              "\n",
              "    [theme=dark] .colab-df-convert {\n",
              "      background-color: #3B4455;\n",
              "      fill: #D2E3FC;\n",
              "    }\n",
              "\n",
              "    [theme=dark] .colab-df-convert:hover {\n",
              "      background-color: #434B5C;\n",
              "      box-shadow: 0px 1px 3px 1px rgba(0, 0, 0, 0.15);\n",
              "      filter: drop-shadow(0px 1px 2px rgba(0, 0, 0, 0.3));\n",
              "      fill: #FFFFFF;\n",
              "    }\n",
              "  </style>\n",
              "\n",
              "      <script>\n",
              "        const buttonEl =\n",
              "          document.querySelector('#df-454efea9-a0b8-4a6e-b55c-857b0c613f18 button.colab-df-convert');\n",
              "        buttonEl.style.display =\n",
              "          google.colab.kernel.accessAllowed ? 'block' : 'none';\n",
              "\n",
              "        async function convertToInteractive(key) {\n",
              "          const element = document.querySelector('#df-454efea9-a0b8-4a6e-b55c-857b0c613f18');\n",
              "          const dataTable =\n",
              "            await google.colab.kernel.invokeFunction('convertToInteractive',\n",
              "                                                     [key], {});\n",
              "          if (!dataTable) return;\n",
              "\n",
              "          const docLinkHtml = 'Like what you see? Visit the ' +\n",
              "            '<a target=\"_blank\" href=https://colab.research.google.com/notebooks/data_table.ipynb>data table notebook</a>'\n",
              "            + ' to learn more about interactive tables.';\n",
              "          element.innerHTML = '';\n",
              "          dataTable['output_type'] = 'display_data';\n",
              "          await google.colab.output.renderOutput(dataTable, element);\n",
              "          const docLink = document.createElement('div');\n",
              "          docLink.innerHTML = docLinkHtml;\n",
              "          element.appendChild(docLink);\n",
              "        }\n",
              "      </script>\n",
              "    </div>\n",
              "  </div>\n",
              "  "
            ]
          },
          "metadata": {},
          "execution_count": 19
        }
      ]
    },
    {
      "cell_type": "code",
      "source": [
        "X_label_test_sc.describe().T"
      ],
      "metadata": {
        "colab": {
          "base_uri": "https://localhost:8080/",
          "height": 488
        },
        "id": "Hv3Rna0MWeKS",
        "outputId": "e020bf83-c40c-4412-cc80-7661d59077a0"
      },
      "execution_count": null,
      "outputs": [
        {
          "output_type": "execute_result",
          "data": {
            "text/plain": [
              "                 count      mean       std       min       25%       50%  \\\n",
              "age             6033.0  0.291322  0.182544  0.000000  0.150685  0.273973   \n",
              "workclass       6033.0  0.366816  0.155821  0.000000  0.333333  0.333333   \n",
              "fnlwgt          6033.0  0.121070  0.072453  0.004262  0.071179  0.114154   \n",
              "education       6033.0  0.691132  0.252797  0.000000  0.600000  0.733333   \n",
              "education-num   6033.0  0.607238  0.168469  0.000000  0.533333  0.600000   \n",
              "marital-status  6033.0  0.437289  0.248947  0.000000  0.333333  0.333333   \n",
              "occupation      6033.0  0.451453  0.310983  0.000000  0.153846  0.461538   \n",
              "relationship    6033.0  0.293950  0.324923  0.000000  0.000000  0.200000   \n",
              "race            6033.0  0.918366  0.211782  0.000000  1.000000  1.000000   \n",
              "sex             6033.0  0.673794  0.468862  0.000000  0.000000  1.000000   \n",
              "capital-gain    6033.0  0.010202  0.067057  0.000000  0.000000  0.000000   \n",
              "capital-loss    6033.0  0.017905  0.086913  0.000000  0.000000  0.000000   \n",
              "hours-per-week  6033.0  0.406467  0.120645  0.000000  0.397959  0.397959   \n",
              "native-country  6033.0  0.912353  0.146092  0.000000  0.950000  0.950000   \n",
              "\n",
              "                     75%       max  \n",
              "age             0.410959  1.000000  \n",
              "workclass       0.333333  1.000000  \n",
              "fnlwgt          0.154559  1.020303  \n",
              "education       0.800000  1.000000  \n",
              "education-num   0.800000  1.000000  \n",
              "marital-status  0.666667  1.000000  \n",
              "occupation      0.692308  1.000000  \n",
              "relationship    0.600000  1.000000  \n",
              "race            1.000000  1.000000  \n",
              "sex             1.000000  1.000000  \n",
              "capital-gain    0.000000  1.000000  \n",
              "capital-loss    0.000000  0.597567  \n",
              "hours-per-week  0.448980  1.000000  \n",
              "native-country  0.950000  1.000000  "
            ],
            "text/html": [
              "\n",
              "  <div id=\"df-b251d2e3-177c-4b4a-995c-4be2ec12ee22\">\n",
              "    <div class=\"colab-df-container\">\n",
              "      <div>\n",
              "<style scoped>\n",
              "    .dataframe tbody tr th:only-of-type {\n",
              "        vertical-align: middle;\n",
              "    }\n",
              "\n",
              "    .dataframe tbody tr th {\n",
              "        vertical-align: top;\n",
              "    }\n",
              "\n",
              "    .dataframe thead th {\n",
              "        text-align: right;\n",
              "    }\n",
              "</style>\n",
              "<table border=\"1\" class=\"dataframe\">\n",
              "  <thead>\n",
              "    <tr style=\"text-align: right;\">\n",
              "      <th></th>\n",
              "      <th>count</th>\n",
              "      <th>mean</th>\n",
              "      <th>std</th>\n",
              "      <th>min</th>\n",
              "      <th>25%</th>\n",
              "      <th>50%</th>\n",
              "      <th>75%</th>\n",
              "      <th>max</th>\n",
              "    </tr>\n",
              "  </thead>\n",
              "  <tbody>\n",
              "    <tr>\n",
              "      <th>age</th>\n",
              "      <td>6033.0</td>\n",
              "      <td>0.291322</td>\n",
              "      <td>0.182544</td>\n",
              "      <td>0.000000</td>\n",
              "      <td>0.150685</td>\n",
              "      <td>0.273973</td>\n",
              "      <td>0.410959</td>\n",
              "      <td>1.000000</td>\n",
              "    </tr>\n",
              "    <tr>\n",
              "      <th>workclass</th>\n",
              "      <td>6033.0</td>\n",
              "      <td>0.366816</td>\n",
              "      <td>0.155821</td>\n",
              "      <td>0.000000</td>\n",
              "      <td>0.333333</td>\n",
              "      <td>0.333333</td>\n",
              "      <td>0.333333</td>\n",
              "      <td>1.000000</td>\n",
              "    </tr>\n",
              "    <tr>\n",
              "      <th>fnlwgt</th>\n",
              "      <td>6033.0</td>\n",
              "      <td>0.121070</td>\n",
              "      <td>0.072453</td>\n",
              "      <td>0.004262</td>\n",
              "      <td>0.071179</td>\n",
              "      <td>0.114154</td>\n",
              "      <td>0.154559</td>\n",
              "      <td>1.020303</td>\n",
              "    </tr>\n",
              "    <tr>\n",
              "      <th>education</th>\n",
              "      <td>6033.0</td>\n",
              "      <td>0.691132</td>\n",
              "      <td>0.252797</td>\n",
              "      <td>0.000000</td>\n",
              "      <td>0.600000</td>\n",
              "      <td>0.733333</td>\n",
              "      <td>0.800000</td>\n",
              "      <td>1.000000</td>\n",
              "    </tr>\n",
              "    <tr>\n",
              "      <th>education-num</th>\n",
              "      <td>6033.0</td>\n",
              "      <td>0.607238</td>\n",
              "      <td>0.168469</td>\n",
              "      <td>0.000000</td>\n",
              "      <td>0.533333</td>\n",
              "      <td>0.600000</td>\n",
              "      <td>0.800000</td>\n",
              "      <td>1.000000</td>\n",
              "    </tr>\n",
              "    <tr>\n",
              "      <th>marital-status</th>\n",
              "      <td>6033.0</td>\n",
              "      <td>0.437289</td>\n",
              "      <td>0.248947</td>\n",
              "      <td>0.000000</td>\n",
              "      <td>0.333333</td>\n",
              "      <td>0.333333</td>\n",
              "      <td>0.666667</td>\n",
              "      <td>1.000000</td>\n",
              "    </tr>\n",
              "    <tr>\n",
              "      <th>occupation</th>\n",
              "      <td>6033.0</td>\n",
              "      <td>0.451453</td>\n",
              "      <td>0.310983</td>\n",
              "      <td>0.000000</td>\n",
              "      <td>0.153846</td>\n",
              "      <td>0.461538</td>\n",
              "      <td>0.692308</td>\n",
              "      <td>1.000000</td>\n",
              "    </tr>\n",
              "    <tr>\n",
              "      <th>relationship</th>\n",
              "      <td>6033.0</td>\n",
              "      <td>0.293950</td>\n",
              "      <td>0.324923</td>\n",
              "      <td>0.000000</td>\n",
              "      <td>0.000000</td>\n",
              "      <td>0.200000</td>\n",
              "      <td>0.600000</td>\n",
              "      <td>1.000000</td>\n",
              "    </tr>\n",
              "    <tr>\n",
              "      <th>race</th>\n",
              "      <td>6033.0</td>\n",
              "      <td>0.918366</td>\n",
              "      <td>0.211782</td>\n",
              "      <td>0.000000</td>\n",
              "      <td>1.000000</td>\n",
              "      <td>1.000000</td>\n",
              "      <td>1.000000</td>\n",
              "      <td>1.000000</td>\n",
              "    </tr>\n",
              "    <tr>\n",
              "      <th>sex</th>\n",
              "      <td>6033.0</td>\n",
              "      <td>0.673794</td>\n",
              "      <td>0.468862</td>\n",
              "      <td>0.000000</td>\n",
              "      <td>0.000000</td>\n",
              "      <td>1.000000</td>\n",
              "      <td>1.000000</td>\n",
              "      <td>1.000000</td>\n",
              "    </tr>\n",
              "    <tr>\n",
              "      <th>capital-gain</th>\n",
              "      <td>6033.0</td>\n",
              "      <td>0.010202</td>\n",
              "      <td>0.067057</td>\n",
              "      <td>0.000000</td>\n",
              "      <td>0.000000</td>\n",
              "      <td>0.000000</td>\n",
              "      <td>0.000000</td>\n",
              "      <td>1.000000</td>\n",
              "    </tr>\n",
              "    <tr>\n",
              "      <th>capital-loss</th>\n",
              "      <td>6033.0</td>\n",
              "      <td>0.017905</td>\n",
              "      <td>0.086913</td>\n",
              "      <td>0.000000</td>\n",
              "      <td>0.000000</td>\n",
              "      <td>0.000000</td>\n",
              "      <td>0.000000</td>\n",
              "      <td>0.597567</td>\n",
              "    </tr>\n",
              "    <tr>\n",
              "      <th>hours-per-week</th>\n",
              "      <td>6033.0</td>\n",
              "      <td>0.406467</td>\n",
              "      <td>0.120645</td>\n",
              "      <td>0.000000</td>\n",
              "      <td>0.397959</td>\n",
              "      <td>0.397959</td>\n",
              "      <td>0.448980</td>\n",
              "      <td>1.000000</td>\n",
              "    </tr>\n",
              "    <tr>\n",
              "      <th>native-country</th>\n",
              "      <td>6033.0</td>\n",
              "      <td>0.912353</td>\n",
              "      <td>0.146092</td>\n",
              "      <td>0.000000</td>\n",
              "      <td>0.950000</td>\n",
              "      <td>0.950000</td>\n",
              "      <td>0.950000</td>\n",
              "      <td>1.000000</td>\n",
              "    </tr>\n",
              "  </tbody>\n",
              "</table>\n",
              "</div>\n",
              "      <button class=\"colab-df-convert\" onclick=\"convertToInteractive('df-b251d2e3-177c-4b4a-995c-4be2ec12ee22')\"\n",
              "              title=\"Convert this dataframe to an interactive table.\"\n",
              "              style=\"display:none;\">\n",
              "        \n",
              "  <svg xmlns=\"http://www.w3.org/2000/svg\" height=\"24px\"viewBox=\"0 0 24 24\"\n",
              "       width=\"24px\">\n",
              "    <path d=\"M0 0h24v24H0V0z\" fill=\"none\"/>\n",
              "    <path d=\"M18.56 5.44l.94 2.06.94-2.06 2.06-.94-2.06-.94-.94-2.06-.94 2.06-2.06.94zm-11 1L8.5 8.5l.94-2.06 2.06-.94-2.06-.94L8.5 2.5l-.94 2.06-2.06.94zm10 10l.94 2.06.94-2.06 2.06-.94-2.06-.94-.94-2.06-.94 2.06-2.06.94z\"/><path d=\"M17.41 7.96l-1.37-1.37c-.4-.4-.92-.59-1.43-.59-.52 0-1.04.2-1.43.59L10.3 9.45l-7.72 7.72c-.78.78-.78 2.05 0 2.83L4 21.41c.39.39.9.59 1.41.59.51 0 1.02-.2 1.41-.59l7.78-7.78 2.81-2.81c.8-.78.8-2.07 0-2.86zM5.41 20L4 18.59l7.72-7.72 1.47 1.35L5.41 20z\"/>\n",
              "  </svg>\n",
              "      </button>\n",
              "      \n",
              "  <style>\n",
              "    .colab-df-container {\n",
              "      display:flex;\n",
              "      flex-wrap:wrap;\n",
              "      gap: 12px;\n",
              "    }\n",
              "\n",
              "    .colab-df-convert {\n",
              "      background-color: #E8F0FE;\n",
              "      border: none;\n",
              "      border-radius: 50%;\n",
              "      cursor: pointer;\n",
              "      display: none;\n",
              "      fill: #1967D2;\n",
              "      height: 32px;\n",
              "      padding: 0 0 0 0;\n",
              "      width: 32px;\n",
              "    }\n",
              "\n",
              "    .colab-df-convert:hover {\n",
              "      background-color: #E2EBFA;\n",
              "      box-shadow: 0px 1px 2px rgba(60, 64, 67, 0.3), 0px 1px 3px 1px rgba(60, 64, 67, 0.15);\n",
              "      fill: #174EA6;\n",
              "    }\n",
              "\n",
              "    [theme=dark] .colab-df-convert {\n",
              "      background-color: #3B4455;\n",
              "      fill: #D2E3FC;\n",
              "    }\n",
              "\n",
              "    [theme=dark] .colab-df-convert:hover {\n",
              "      background-color: #434B5C;\n",
              "      box-shadow: 0px 1px 3px 1px rgba(0, 0, 0, 0.15);\n",
              "      filter: drop-shadow(0px 1px 2px rgba(0, 0, 0, 0.3));\n",
              "      fill: #FFFFFF;\n",
              "    }\n",
              "  </style>\n",
              "\n",
              "      <script>\n",
              "        const buttonEl =\n",
              "          document.querySelector('#df-b251d2e3-177c-4b4a-995c-4be2ec12ee22 button.colab-df-convert');\n",
              "        buttonEl.style.display =\n",
              "          google.colab.kernel.accessAllowed ? 'block' : 'none';\n",
              "\n",
              "        async function convertToInteractive(key) {\n",
              "          const element = document.querySelector('#df-b251d2e3-177c-4b4a-995c-4be2ec12ee22');\n",
              "          const dataTable =\n",
              "            await google.colab.kernel.invokeFunction('convertToInteractive',\n",
              "                                                     [key], {});\n",
              "          if (!dataTable) return;\n",
              "\n",
              "          const docLinkHtml = 'Like what you see? Visit the ' +\n",
              "            '<a target=\"_blank\" href=https://colab.research.google.com/notebooks/data_table.ipynb>data table notebook</a>'\n",
              "            + ' to learn more about interactive tables.';\n",
              "          element.innerHTML = '';\n",
              "          dataTable['output_type'] = 'display_data';\n",
              "          await google.colab.output.renderOutput(dataTable, element);\n",
              "          const docLink = document.createElement('div');\n",
              "          docLink.innerHTML = docLinkHtml;\n",
              "          element.appendChild(docLink);\n",
              "        }\n",
              "      </script>\n",
              "    </div>\n",
              "  </div>\n",
              "  "
            ]
          },
          "metadata": {},
          "execution_count": 20
        }
      ]
    },
    {
      "cell_type": "markdown",
      "source": [
        "## KNN hiperparameter tunning"
      ],
      "metadata": {
        "id": "Uw3tzVO0XPR0"
      }
    },
    {
      "cell_type": "markdown",
      "source": [
        "Farem servir dos mètodes de selecció d'hiperaparàmetres:\n",
        "\n",
        "**Primer métode:** Per una banda aplicarem GridSearchCV en el conjunt d'entrenament amb 5 folds. I avaluarem l'accuracy del model en el conjunt de validació."
      ],
      "metadata": {
        "id": "KNqqtRbofjlx"
      }
    },
    {
      "cell_type": "code",
      "source": [
        "parameters = {'metric':['manhattan','euclidean','cityblock','cosine','harvesine'],'n_neighbors': np.arange(2, 30), 'weights':['uniform','distance']}"
      ],
      "metadata": {
        "id": "QKZhy5TKXWUY"
      },
      "execution_count": null,
      "outputs": []
    },
    {
      "cell_type": "code",
      "source": [
        "start=time()\n",
        "estimator=GridSearchCV(KNeighborsClassifier(), parameters, cv=5,scoring='accuracy',verbose=0)\n",
        "estimator.fit(X_label_train_sc, y_label_train)\n",
        "elapsed= time() -start\n",
        "print(elapsed)"
      ],
      "metadata": {
        "colab": {
          "base_uri": "https://localhost:8080/"
        },
        "id": "MJNsTgkwXh5m",
        "outputId": "acf2b052-222d-4ba3-96a0-8313120c80a0"
      },
      "execution_count": null,
      "outputs": [
        {
          "output_type": "stream",
          "name": "stdout",
          "text": [
            "1303.2835614681244\n"
          ]
        },
        {
          "output_type": "stream",
          "name": "stderr",
          "text": [
            "/usr/local/lib/python3.8/dist-packages/sklearn/model_selection/_validation.py:372: FitFailedWarning: \n",
            "280 fits failed out of a total of 1400.\n",
            "The score on these train-test partitions for these parameters will be set to nan.\n",
            "If these failures are not expected, you can try to debug them by setting error_score='raise'.\n",
            "\n",
            "Below are more details about the failures:\n",
            "--------------------------------------------------------------------------------\n",
            "280 fits failed with the following error:\n",
            "Traceback (most recent call last):\n",
            "  File \"/usr/local/lib/python3.8/dist-packages/sklearn/model_selection/_validation.py\", line 680, in _fit_and_score\n",
            "    estimator.fit(X_train, y_train, **fit_params)\n",
            "  File \"/usr/local/lib/python3.8/dist-packages/sklearn/neighbors/_classification.py\", line 198, in fit\n",
            "    return self._fit(X, y)\n",
            "  File \"/usr/local/lib/python3.8/dist-packages/sklearn/neighbors/_base.py\", line 437, in _fit\n",
            "    self._check_algorithm_metric()\n",
            "  File \"/usr/local/lib/python3.8/dist-packages/sklearn/neighbors/_base.py\", line 374, in _check_algorithm_metric\n",
            "    raise ValueError(\n",
            "ValueError: Metric 'harvesine' not valid. Use sorted(sklearn.neighbors.VALID_METRICS['brute']) to get valid options. Metric can also be a callable function.\n",
            "\n",
            "  warnings.warn(some_fits_failed_message, FitFailedWarning)\n",
            "/usr/local/lib/python3.8/dist-packages/sklearn/model_selection/_search.py:969: UserWarning: One or more of the test scores are non-finite: [0.80405342 0.79099855 0.81437292 0.81039428 0.8175225  0.81205188\n",
            " 0.82278603 0.81884883 0.82357348 0.82075527 0.82730346 0.82378071\n",
            " 0.82693037 0.82547987 0.82871258 0.82618447 0.82850532 0.82796667\n",
            " 0.83140647 0.82858826 0.83074316 0.82925133 0.83227679 0.82962434\n",
            " 0.83074325 0.82991439 0.83223525 0.82979007 0.83177934 0.83049459\n",
            " 0.83314697 0.83095053 0.83190363 0.8312406  0.83347842 0.83132351\n",
            " 0.83182068 0.83206946 0.83281538 0.83153072 0.83177929 0.83136495\n",
            " 0.83190368 0.83219391 0.83136486 0.83173793 0.83260817 0.83211095\n",
            " 0.83061877 0.83206944 0.83165488 0.83240101 0.83070166 0.83264959\n",
            " 0.83260813 0.83289829 0.80231292 0.7882218  0.81134759 0.80761767\n",
            " 0.81598924 0.8106844  0.82216454 0.81785429 0.82415366 0.81988505\n",
            " 0.82531406 0.82245441 0.82593563 0.82340769 0.82697163 0.82456804\n",
            " 0.8273032  0.82614296 0.82784211 0.82568704 0.82784195 0.826806\n",
            " 0.82896101 0.82759346 0.82817353 0.82742764 0.82896102 0.8282151\n",
            " 0.82862947 0.82767636 0.82920969 0.82825655 0.82920967 0.82817358\n",
            " 0.82995568 0.82850515 0.82875369 0.82825648 0.82883661 0.82871237\n",
            " 0.82912676 0.82887812 0.82970692 0.82925113 0.82800771 0.82983129\n",
            " 0.82854655 0.82900247 0.8287123  0.82904397 0.82833937 0.82916833\n",
            " 0.82867085 0.82904396 0.82954116 0.82929265 0.80405342 0.79099855\n",
            " 0.81437292 0.81039428 0.8175225  0.81205188 0.82278603 0.81884883\n",
            " 0.82357348 0.82075527 0.82730346 0.82378071 0.82693037 0.82547987\n",
            " 0.82871258 0.82618447 0.82850532 0.82796667 0.83140647 0.82858826\n",
            " 0.83074316 0.82925133 0.83227679 0.82962434 0.83074325 0.82991439\n",
            " 0.83223525 0.82979007 0.83177934 0.83049459 0.83314697 0.83095053\n",
            " 0.83190363 0.8312406  0.83347842 0.83132351 0.83182068 0.83206946\n",
            " 0.83281538 0.83153072 0.83177929 0.83136495 0.83190368 0.83219391\n",
            " 0.83136486 0.83173793 0.83260817 0.83211095 0.83061877 0.83206944\n",
            " 0.83165488 0.83240101 0.83070166 0.83264959 0.83260813 0.83289829\n",
            " 0.80264442 0.78681273 0.81047728 0.80202274 0.81598927 0.8056283\n",
            " 0.82096264 0.81047719 0.8223301  0.81333688 0.82539703 0.81516034\n",
            " 0.82618427 0.81739828 0.82622562 0.81781268 0.82701304 0.81918028\n",
            " 0.82722037 0.81926316 0.8267643  0.82017491 0.82622574 0.82054796\n",
            " 0.82742753 0.82191552 0.82767628 0.82295163 0.82933406 0.82286868\n",
            " 0.82945834 0.82378043 0.82933405 0.82378049 0.82916825 0.82448507\n",
            " 0.82871232 0.82419494 0.82904397 0.82431928 0.82900247 0.82456799\n",
            " 0.82867104 0.82494096 0.82912677 0.82477524 0.82875384 0.82477518\n",
            " 0.82883669 0.82556261 0.8284637  0.82527249 0.82846362 0.82622566\n",
            " 0.8284223  0.8257698         nan        nan        nan        nan\n",
            "        nan        nan        nan        nan        nan        nan\n",
            "        nan        nan        nan        nan        nan        nan\n",
            "        nan        nan        nan        nan        nan        nan\n",
            "        nan        nan        nan        nan        nan        nan\n",
            "        nan        nan        nan        nan        nan        nan\n",
            "        nan        nan        nan        nan        nan        nan\n",
            "        nan        nan        nan        nan        nan        nan\n",
            "        nan        nan        nan        nan        nan        nan\n",
            "        nan        nan        nan        nan]\n",
            "  warnings.warn(\n"
          ]
        }
      ]
    },
    {
      "cell_type": "code",
      "source": [
        "print(\"Accuracy del training set:\", round(estimator.score(X_label_train_sc,y_label_train)*100,2),\"%\")\n",
        "print(\"Accuracy del test set:\", round(estimator.score(X_label_test_sc,y_label_test)*100,2),\"%\")\n",
        "print(estimator.best_params_)"
      ],
      "metadata": {
        "colab": {
          "base_uri": "https://localhost:8080/"
        },
        "id": "9aSHmZNFZF2C",
        "outputId": "e43ef64d-6d19-4d76-ca43-762d66f0b8c2"
      },
      "execution_count": null,
      "outputs": [
        {
          "output_type": "stream",
          "name": "stdout",
          "text": [
            "Accuracy del training set: 84.79 %\n",
            "Accuracy del test set: 82.89 %\n",
            "{'metric': 'manhattan', 'n_neighbors': 19, 'weights': 'uniform'}\n"
          ]
        }
      ]
    },
    {
      "cell_type": "markdown",
      "source": [
        "Millora el resultat obtingut amb el Gaussian NB superant el 80% d'accuracy."
      ],
      "metadata": {
        "id": "XCrVC4A8fJYl"
      }
    },
    {
      "cell_type": "code",
      "source": [
        "plot_confusion_matrix(estimator,X_label_test_sc,y_label_test,values_format='d',display_labels=['<=50k$','>50k$'])"
      ],
      "metadata": {
        "colab": {
          "base_uri": "https://localhost:8080/",
          "height": 351
        },
        "id": "CPkk5jVJazpp",
        "outputId": "2e37e871-6238-4cc6-9dbe-05f9f208400d"
      },
      "execution_count": null,
      "outputs": [
        {
          "output_type": "stream",
          "name": "stderr",
          "text": [
            "/usr/local/lib/python3.8/dist-packages/sklearn/utils/deprecation.py:87: FutureWarning: Function plot_confusion_matrix is deprecated; Function `plot_confusion_matrix` is deprecated in 1.0 and will be removed in 1.2. Use one of the class methods: ConfusionMatrixDisplay.from_predictions or ConfusionMatrixDisplay.from_estimator.\n",
            "  warnings.warn(msg, category=FutureWarning)\n"
          ]
        },
        {
          "output_type": "execute_result",
          "data": {
            "text/plain": [
              "<sklearn.metrics._plot.confusion_matrix.ConfusionMatrixDisplay at 0x7f304b79b520>"
            ]
          },
          "metadata": {},
          "execution_count": 32
        },
        {
          "output_type": "display_data",
          "data": {
            "text/plain": [
              "<Figure size 432x288 with 2 Axes>"
            ],
            "image/png": "[encoded data removed]"
          },
          "metadata": {
            "needs_background": "light"
          }
        }
      ]
    },
    {
      "cell_type": "markdown",
      "source": [
        "**Segon métode:** No utilitzem validació creuada sinó que instanciem un estimador KNN amb els hiperparàmetres per defecte excepte n_neighbors que l'anirem iterant per tots els nombres senars entre 1 i 50. En cada iteració ajustem l'estimador al conjunt d'entrenament i avaluem l'accuracy al conjunt de validació. Mesurarem l'error i seleccionarem l'hiperparàmetre que menor error tingui."
      ],
      "metadata": {
        "id": "Nf077hq0kxzJ"
      }
    },
    {
      "cell_type": "code",
      "source": [
        "error = []\n",
        "k_values = list(filter(lambda x: x%2==1, range(0,50)))\n",
        "best_k = 0\n",
        "for i in k_values:\n",
        "    knn = KNeighborsClassifier(n_neighbors=i)\n",
        "    knn.fit(X_label_train_sc, y_label_train)\n",
        "    pred_i = knn.predict(X_label_test_sc)\n",
        "    error.append(np.mean(pred_i != y_label_test))\n",
        "print(error.index(np.min(error)))"
      ],
      "metadata": {
        "colab": {
          "base_uri": "https://localhost:8080/"
        },
        "id": "zc2Y7MDCJHwA",
        "outputId": "96785c74-a076-407e-c45a-720b91174cc9"
      },
      "execution_count": null,
      "outputs": [
        {
          "output_type": "stream",
          "name": "stdout",
          "text": [
            "15\n"
          ]
        }
      ]
    },
    {
      "cell_type": "markdown",
      "source": [
        "Veiem que la iteració número 15 és la que dóna menys error. Com que és la quinzena iteració i només hem iterat números senars, aquesta iteració correspon a 15*2+1=31 n_neighbors. Si grafiquem l'error:"
      ],
      "metadata": {
        "id": "C8_qKMzUJ4N7"
      }
    },
    {
      "cell_type": "code",
      "source": [
        "plt.style.use('seaborn')\n",
        "plt.figure(figsize=(10,10))\n",
        "plt.plot(k_values,error_rate,color='blue', linestyle='dashed', marker='o',\n",
        "         markerfacecolor='red', markersize=10)\n",
        "plt.title('Error Rate vs. K Value')\n",
        "plt.xlabel('K')\n",
        "plt.ylabel('Error Rate')"
      ],
      "metadata": {
        "colab": {
          "base_uri": "https://localhost:8080/",
          "height": 637
        },
        "id": "bLr1c0g4JW2o",
        "outputId": "e1dd4eaa-79c3-4ca1-f832-8c3a4852713b"
      },
      "execution_count": null,
      "outputs": [
        {
          "output_type": "execute_result",
          "data": {
            "text/plain": [
              "Text(0, 0.5, 'Error Rate')"
            ]
          },
          "metadata": {},
          "execution_count": 34
        },
        {
          "output_type": "display_data",
          "data": {
            "text/plain": [
              "<Figure size 720x720 with 1 Axes>"
            ],
            "image/png": "[encoded data removed]"
          },
          "metadata": {}
        }
      ]
    },
    {
      "cell_type": "markdown",
      "source": [
        "Podem veure com **l'error mínim es produeix amb n_neighbors = 31**."
      ],
      "metadata": {
        "id": "clBHgpkwLke1"
      }
    },
    {
      "cell_type": "code",
      "source": [
        "knn_classifier = KNeighborsClassifier(n_neighbors=31)\n",
        "knn_classifier.fit(X_label_train_sc, y_label_train)\n",
        "knn_train_score = knn_classifier.score(X_label_train_sc, y_label_train)\n",
        "knn_test_score = knn_classifier.score(X_label_test_sc,y_label_test)\n",
        "print(\"Accuracy del training set:\", round(knn_train_score*100,2),\"%\")\n",
        "print(\"Accuracy del test set:\", round(knn_test_score*100,2),\"%\")"
      ],
      "metadata": {
        "colab": {
          "base_uri": "https://localhost:8080/"
        },
        "id": "FPhYc6h3Jp7M",
        "outputId": "caeab1f7-fd90-48f3-c015-ea5f06801df4"
      },
      "execution_count": null,
      "outputs": [
        {
          "output_type": "stream",
          "name": "stdout",
          "text": [
            "Accuracy del training set: 84.1 %\n",
            "Accuracy del test set: 83.01 %\n"
          ]
        }
      ]
    },
    {
      "cell_type": "markdown",
      "source": [
        "# SVM"
      ],
      "metadata": {
        "id": "pWAdRPhVCma-"
      }
    },
    {
      "cell_type": "markdown",
      "source": [
        "SVM funcionen molt bé en datasets de tamany petit però no tant amb els de major tamany com és el cas que ens ocupa. Aquest dataset és prou gran com per a que el model tardi molt de temps per optimitzar-se via CV. Així que farem un downsampling a 5000 instàncies, 2500 de cada classe:"
      ],
      "metadata": {
        "id": "VL_3jLJtTpHi"
      }
    },
    {
      "cell_type": "markdown",
      "source": [
        "## Downsampling"
      ],
      "metadata": {
        "id": "D7xdF5I_WdeR"
      }
    },
    {
      "cell_type": "markdown",
      "source": [
        "Procedim a fer un downsampling del dataset amb un 50% d'observacions de cada classe."
      ],
      "metadata": {
        "id": "1BsTR8teVIuT"
      }
    },
    {
      "cell_type": "code",
      "source": [
        "n_samples=2500"
      ],
      "metadata": {
        "id": "l8Kd6aP5VZIX"
      },
      "execution_count": null,
      "outputs": []
    },
    {
      "cell_type": "code",
      "source": [
        "adult_nomissing_rich=adult_nomissing[adult_nomissing.income==1]\n",
        "adult_nomissing_poor=adult_nomissing[adult_nomissing.income==0]"
      ],
      "metadata": {
        "id": "Sr_PNlKmVei-"
      },
      "execution_count": null,
      "outputs": []
    },
    {
      "cell_type": "code",
      "source": [
        "adult_nomissing_rich_down=resample(adult_nomissing_rich,replace=False,n_samples=n_samples,random_state=42)\n",
        "adult_nomissing_poor_down=resample(adult_nomissing_poor,replace=False,n_samples=n_samples,random_state=42)\n"
      ],
      "metadata": {
        "id": "_hL0mDA3VfKj"
      },
      "execution_count": null,
      "outputs": []
    },
    {
      "cell_type": "code",
      "source": [
        "adult_nomissing_down=pd.concat([adult_nomissing_rich_down,adult_nomissing_poor_down])"
      ],
      "metadata": {
        "id": "wsXoxuzPWM_r"
      },
      "execution_count": null,
      "outputs": []
    },
    {
      "cell_type": "markdown",
      "source": [
        "## Assignació de X, y i One Hot Encoding"
      ],
      "metadata": {
        "id": "THTFWW04YFAq"
      }
    },
    {
      "cell_type": "code",
      "source": [
        "X_down = adult_nomissing_down.iloc[:, :-1]\n",
        "y_down = adult_nomissing_down.iloc[:, -1]"
      ],
      "metadata": {
        "id": "NN15wG7tYMeP"
      },
      "execution_count": null,
      "outputs": []
    },
    {
      "cell_type": "markdown",
      "source": [
        "SVM no soporten variables categòriques, apliquem One Hot Encoding:"
      ],
      "metadata": {
        "id": "CUWEGwHPYuwi"
      }
    },
    {
      "cell_type": "code",
      "source": [
        "X_down_encoded = pd.get_dummies(X_down, columns=categorical,drop_first=True)#one hot categorical columns\n"
      ],
      "metadata": {
        "id": "FNmDxpesZuGg"
      },
      "execution_count": null,
      "outputs": []
    },
    {
      "cell_type": "markdown",
      "source": [
        "## Train, test split"
      ],
      "metadata": {
        "id": "SStXx6LSaQV_"
      }
    },
    {
      "cell_type": "markdown",
      "source": [
        "Fem una partició estratificada del dataset, 20% destinat al conjunt de validació:"
      ],
      "metadata": {
        "id": "8WTYG86qab1v"
      }
    },
    {
      "cell_type": "code",
      "source": [
        "X_SVM_train, X_SVM_test, y_SVM_train, y_SVM_test = train_test_split(X_down_encoded, y_down, test_size=0.2, random_state=42, stratify=y_down)"
      ],
      "metadata": {
        "id": "yiN95VFuauA4"
      },
      "execution_count": null,
      "outputs": []
    },
    {
      "cell_type": "markdown",
      "source": [
        "## Centering and scaling"
      ],
      "metadata": {
        "id": "N3mB_wWSbbpD"
      }
    },
    {
      "cell_type": "markdown",
      "source": [
        "Els kernels que utilitzarem assumeixen que les dades estan estandaritzades, cada columna numèrica ha de tenir mitjana 0 i desviació estàndar 1.\n",
        "\n",
        "Definim una funció per estandaritzar les variables númeriques dels conjunts d'entrenament i validació amb StandardScaler ajustat al conjunt d'entrenament."
      ],
      "metadata": {
        "id": "U331ZNiqbd9e"
      }
    },
    {
      "cell_type": "code",
      "source": [
        "def standardize(X_train, X_test, numeric):\n",
        "   \n",
        "    # Step 1\n",
        "    sc = StandardScaler()\n",
        "    \n",
        "    # Step 2\n",
        "    X_train_numeric = X_train[numeric]\n",
        "    X_test_numeric = X_test[numeric]\n",
        "    \n",
        "    # Step 3\n",
        "    scaler = sc.fit(X_train_numeric)\n",
        "    \n",
        "    # Step 4\n",
        "\n",
        "    X_SVM_train_st = scaler.transform(X_train_numeric)\n",
        "    X_SVM_test_st = scaler.transform(X_test_numeric)\n",
        "    \n",
        "    # Step 5\n",
        "\n",
        "    return X_SVM_train_st, X_SVM_test_st"
      ],
      "metadata": {
        "id": "zvf4Ma4HdIlc"
      },
      "execution_count": null,
      "outputs": []
    },
    {
      "cell_type": "markdown",
      "source": [
        "Executem l'estandarització:"
      ],
      "metadata": {
        "id": "ICbq37gfdn-A"
      }
    },
    {
      "cell_type": "code",
      "source": [
        "numeric = X_SVM_train.select_dtypes(include = ['int64']).columns.tolist()#localitzem les variables numèriques\n",
        "X_SVM_train_numeric, X_SVM_test_numeric = standardize(X_SVM_train, X_SVM_test, numeric)\n"
      ],
      "metadata": {
        "id": "cxXjQTULdoss"
      },
      "execution_count": null,
      "outputs": []
    },
    {
      "cell_type": "code",
      "source": [
        "print(X_SVM_train_numeric.mean(axis=0)) #Comprovem l'estandarització\n",
        "print(X_SVM_train_numeric.std(axis=0))"
      ],
      "metadata": {
        "colab": {
          "base_uri": "https://localhost:8080/"
        },
        "id": "Is689kWxeBsP",
        "outputId": "a6330ae7-0e7c-4026-c4f5-9ea0a2fc647c"
      },
      "execution_count": null,
      "outputs": [
        {
          "output_type": "stream",
          "name": "stdout",
          "text": [
            "[ 2.25153229e-16 -8.34887715e-17 -2.98427949e-16 -7.10542736e-18\n",
            "  4.61852778e-17  1.11910481e-16]\n",
            "[1. 1. 1. 1. 1. 1.]\n"
          ]
        }
      ]
    },
    {
      "cell_type": "markdown",
      "source": [
        "StandardScaler ens retorna un *array*, definim una funció per implantar les variables estandaritzades als seus respectius conjunts:"
      ],
      "metadata": {
        "id": "31oQPdJPeoOv"
      }
    },
    {
      "cell_type": "code",
      "source": [
        "def merge(X_train, X_test, X_train_numeric, X_test_numeric, numeric):\n",
        "\n",
        "    if X_train.shape == (0, 0): return pd.DataFrame([0]), pd.DataFrame([0])\n",
        "    \n",
        "    X_train_st_df = X_train.copy()\n",
        "    X_train_st_df[numeric] = X_train_numeric\n",
        "    X_test_st_df = X_test.copy()\n",
        "    X_test_st_df[numeric] = X_test_numeric\n",
        "    \n",
        "    return X_train_st_df, X_test_st_df"
      ],
      "metadata": {
        "id": "1FvnSe1ZeTPK"
      },
      "execution_count": null,
      "outputs": []
    },
    {
      "cell_type": "code",
      "source": [
        "X_SVM_train_st, X_SVM_test_st = merge(X_SVM_train, X_SVM_test, X_SVM_train_numeric, X_SVM_test_numeric, numeric)\n"
      ],
      "metadata": {
        "id": "rNzUZHiAfMLI"
      },
      "execution_count": null,
      "outputs": []
    },
    {
      "cell_type": "code",
      "source": [
        "print(X_SVM_train_st.head().T)"
      ],
      "metadata": {
        "colab": {
          "base_uri": "https://localhost:8080/"
        },
        "id": "mEhFqBosfmnm",
        "outputId": "044a892f-bd7b-43ac-9c5e-32239b3377f3"
      },
      "execution_count": null,
      "outputs": [
        {
          "output_type": "stream",
          "name": "stdout",
          "text": [
            "                                   8854      993       215       31225  \\\n",
            "age                            -0.258051  0.554708 -0.258051 -1.802292   \n",
            "fnlwgt                         -0.041207  0.014681  4.211096 -1.479567   \n",
            "education-num                  -0.646539 -0.646539  0.896053 -0.646539   \n",
            "capital-gain                    1.290101 -0.197486 -0.197486 -0.197486   \n",
            "capital-loss                   -0.259232 -0.259232 -0.259232 -0.259232   \n",
            "...                                  ...       ...       ...       ...   \n",
            "native-country_Thailand         0.000000  0.000000  0.000000  0.000000   \n",
            "native-country_Trinadad&Tobago  0.000000  0.000000  0.000000  0.000000   \n",
            "native-country_United-States    1.000000  1.000000  1.000000  1.000000   \n",
            "native-country_Vietnam          0.000000  0.000000  0.000000  0.000000   \n",
            "native-country_Yugoslavia       0.000000  0.000000  0.000000  0.000000   \n",
            "\n",
            "                                   19785  \n",
            "age                            -0.826982  \n",
            "fnlwgt                         -0.311265  \n",
            "education-num                   0.896053  \n",
            "capital-gain                   -0.197486  \n",
            "capital-loss                   -0.259232  \n",
            "...                                  ...  \n",
            "native-country_Thailand         0.000000  \n",
            "native-country_Trinadad&Tobago  0.000000  \n",
            "native-country_United-States    1.000000  \n",
            "native-country_Vietnam          0.000000  \n",
            "native-country_Yugoslavia       0.000000  \n",
            "\n",
            "[94 rows x 5 columns]\n"
          ]
        }
      ]
    },
    {
      "cell_type": "code",
      "source": [
        "X_SVM_train_st.dtypes"
      ],
      "metadata": {
        "colab": {
          "base_uri": "https://localhost:8080/"
        },
        "id": "txE9LV4DgO4g",
        "outputId": "539644ec-fd74-4cee-facc-ccdbfe7375dd"
      },
      "execution_count": null,
      "outputs": [
        {
          "output_type": "execute_result",
          "data": {
            "text/plain": [
              "age                               float64\n",
              "fnlwgt                            float64\n",
              "education-num                     float64\n",
              "capital-gain                      float64\n",
              "capital-loss                      float64\n",
              "                                   ...   \n",
              "native-country_Thailand             uint8\n",
              "native-country_Trinadad&Tobago      uint8\n",
              "native-country_United-States        uint8\n",
              "native-country_Vietnam              uint8\n",
              "native-country_Yugoslavia           uint8\n",
              "Length: 94, dtype: object"
            ]
          },
          "metadata": {},
          "execution_count": 125
        }
      ]
    },
    {
      "cell_type": "markdown",
      "source": [
        "## Preliminar SVM"
      ],
      "metadata": {
        "id": "ekcgJm0ug0DF"
      }
    },
    {
      "cell_type": "markdown",
      "source": [
        "Amb les dades formatejades construïm un classificador SVM preliminar:"
      ],
      "metadata": {
        "id": "mu3M5-pNhDmj"
      }
    },
    {
      "cell_type": "code",
      "source": [
        "clf_svm = svm.SVC(random_state=42)\n",
        "clf_svm.fit(X_SVM_train_st, y_SVM_train)\n",
        "clf_svm.get_params()"
      ],
      "metadata": {
        "colab": {
          "base_uri": "https://localhost:8080/"
        },
        "id": "HvBTFbWEg9iO",
        "outputId": "43eb9061-21b9-4161-8a28-c66ac3c83bf6"
      },
      "execution_count": null,
      "outputs": [
        {
          "output_type": "execute_result",
          "data": {
            "text/plain": [
              "{'C': 1.0,\n",
              " 'break_ties': False,\n",
              " 'cache_size': 200,\n",
              " 'class_weight': None,\n",
              " 'coef0': 0.0,\n",
              " 'decision_function_shape': 'ovr',\n",
              " 'degree': 3,\n",
              " 'gamma': 'scale',\n",
              " 'kernel': 'rbf',\n",
              " 'max_iter': -1,\n",
              " 'probability': False,\n",
              " 'random_state': 42,\n",
              " 'shrinking': True,\n",
              " 'tol': 0.001,\n",
              " 'verbose': False}"
            ]
          },
          "metadata": {},
          "execution_count": 586
        }
      ]
    },
    {
      "cell_type": "code",
      "source": [
        "print(\"Obtenim un\",round(clf_svm.score(X_SVM_train_st, y_SVM_train)*100,2),\"% d'accuracy en el training set\")"
      ],
      "metadata": {
        "colab": {
          "base_uri": "https://localhost:8080/"
        },
        "id": "i8R2-6zqhq2-",
        "outputId": "f58a3bfe-fdf5-4adc-eb7a-d0c4206f51b8"
      },
      "execution_count": null,
      "outputs": [
        {
          "output_type": "stream",
          "name": "stdout",
          "text": [
            "Obtenim un 84.98 % d'accuracy en el training set\n"
          ]
        }
      ]
    },
    {
      "cell_type": "code",
      "source": [
        "print(\"Obtenim un\",round(clf_svm.score(X_SVM_test_st, y_SVM_test)*100,2),\"% d'accuracy en el test set\")"
      ],
      "metadata": {
        "colab": {
          "base_uri": "https://localhost:8080/"
        },
        "outputId": "fc6e00f8-891f-4d7c-ad0c-6d3bbe254cb7",
        "id": "jHTGUFx5iwDs"
      },
      "execution_count": null,
      "outputs": [
        {
          "output_type": "stream",
          "name": "stdout",
          "text": [
            "Obtenim un 82.8 % d'accuracy en el test set\n"
          ]
        }
      ]
    },
    {
      "cell_type": "code",
      "source": [
        "plot_confusion_matrix(clf_svm,X_SVM_test_st,y_SVM_test,values_format='d',display_labels=['<=50k$','>50k$'])"
      ],
      "metadata": {
        "colab": {
          "base_uri": "https://localhost:8080/",
          "height": 351
        },
        "id": "P8cvI7tCjmf-",
        "outputId": "c1937522-0cf7-4c51-81bd-cf82d450cf28"
      },
      "execution_count": null,
      "outputs": [
        {
          "output_type": "stream",
          "name": "stderr",
          "text": [
            "/usr/local/lib/python3.8/dist-packages/sklearn/utils/deprecation.py:87: FutureWarning: Function plot_confusion_matrix is deprecated; Function `plot_confusion_matrix` is deprecated in 1.0 and will be removed in 1.2. Use one of the class methods: ConfusionMatrixDisplay.from_predictions or ConfusionMatrixDisplay.from_estimator.\n",
            "  warnings.warn(msg, category=FutureWarning)\n"
          ]
        },
        {
          "output_type": "execute_result",
          "data": {
            "text/plain": [
              "<sklearn.metrics._plot.confusion_matrix.ConfusionMatrixDisplay at 0x7fa43fc187c0>"
            ]
          },
          "metadata": {},
          "execution_count": 589
        },
        {
          "output_type": "display_data",
          "data": {
            "text/plain": [
              "<Figure size 432x288 with 2 Axes>"
            ],
            "image/png": "[encoded data removed]"
          },
          "metadata": {
            "needs_background": "light"
          }
        }
      ]
    },
    {
      "cell_type": "markdown",
      "source": [
        "## SVM optimization"
      ],
      "metadata": {
        "id": "3V10-Bc9kXmR"
      }
    },
    {
      "cell_type": "markdown",
      "source": [
        "L'objectiu és optimitzar una SVM ajustant hiperparàmetres. Com que el temps de computació és molt alt ajustarem els diferents hiperparàmetres per a cada kernel per separat.\n",
        "Utilitzarem dos mètodes.\n",
        "\n",
        "Per una banda aplicarem GridSearchCV al conjunt d'entrenament amb 5 folds. Posteriorment avaluem l'accuracy al conjunt de validació.\n",
        "\n",
        "La segona metodologia no utilitza validació creuada sinó que crea una instància de l’estimador, l’ajusta al conjunt d’entrenament i avalua l’accuracy al conjunt de validació. Realitza aquests passos per totes les combinacions possibles dels hiperparàmetres especificats, mitjançant iteració. Finalment seleccionem el model amb més accuracy. "
      ],
      "metadata": {
        "id": "QGE9CL0Ckbk4"
      }
    },
    {
      "cell_type": "markdown",
      "source": [
        "**LinearSVC:**"
      ],
      "metadata": {
        "id": "_D0rO9dixP2s"
      }
    },
    {
      "cell_type": "markdown",
      "source": [
        "Regularització L2 (Ridge)"
      ],
      "metadata": {
        "id": "8RHtLRGC2nFn"
      }
    },
    {
      "cell_type": "code",
      "source": [
        "parameters ={'C' : [0.1,0.5,1, 10, 100], 'loss' : ['hinge','squared_hinge']}\n",
        "scores=[0]"
      ],
      "metadata": {
        "id": "NWlirbTZxZF_"
      },
      "execution_count": null,
      "outputs": []
    },
    {
      "cell_type": "code",
      "source": [
        "start=time()\n",
        "estimator=GridSearchCV(svm.LinearSVC(random_state=0,max_iter=10000000), parameters, cv=5,scoring='accuracy',verbose=0)\n",
        "estimator.fit(X_SVM_train_st, y_SVM_train)\n",
        "elapsed= time() -start\n",
        "print(elapsed)"
      ],
      "metadata": {
        "colab": {
          "base_uri": "https://localhost:8080/"
        },
        "id": "Cb12SU_MELoO",
        "outputId": "2501c831-4dfa-4550-d6f4-dcf4b4bbd286"
      },
      "execution_count": null,
      "outputs": [
        {
          "output_type": "stream",
          "name": "stdout",
          "text": [
            "340.5304458141327\n"
          ]
        }
      ]
    },
    {
      "cell_type": "code",
      "source": [
        "print(\"Accuracy del training set:\", round(estimator.score(X_SVM_train_st,y_SVM_train)*100,2),\"%\")\n",
        "print(\"Accuracy del test set:\", round(estimator.score(X_SVM_test_st,y_SVM_test)*100,2),\"%\")\n",
        "print(estimator.best_params_)"
      ],
      "metadata": {
        "colab": {
          "base_uri": "https://localhost:8080/"
        },
        "id": "lddhCdtAEu2R",
        "outputId": "1ba31d72-1e5f-4800-c3b0-43629798ecce"
      },
      "execution_count": null,
      "outputs": [
        {
          "output_type": "stream",
          "name": "stdout",
          "text": [
            "Accuracy del training set: 83.075 %\n",
            "Accuracy del test set: 83.2 %\n",
            "{'C': 0.1, 'loss': 'squared_hinge'}\n"
          ]
        }
      ]
    },
    {
      "cell_type": "markdown",
      "source": [
        "Hem millorat només un 0.4% l'accuracy del test set."
      ],
      "metadata": {
        "id": "fUKqMVpHkvTq"
      }
    },
    {
      "cell_type": "code",
      "source": [
        "plot_confusion_matrix(estimator,X_SVM_test_st,y_SVM_test,values_format='d',display_labels=['<=50k$','>50k$'])"
      ],
      "metadata": {
        "colab": {
          "base_uri": "https://localhost:8080/",
          "height": 351
        },
        "outputId": "46ce8543-388c-451f-d4c8-6676b5947624",
        "id": "6kCmPnXiEzDE"
      },
      "execution_count": null,
      "outputs": [
        {
          "output_type": "stream",
          "name": "stderr",
          "text": [
            "/usr/local/lib/python3.8/dist-packages/sklearn/utils/deprecation.py:87: FutureWarning: Function plot_confusion_matrix is deprecated; Function `plot_confusion_matrix` is deprecated in 1.0 and will be removed in 1.2. Use one of the class methods: ConfusionMatrixDisplay.from_predictions or ConfusionMatrixDisplay.from_estimator.\n",
            "  warnings.warn(msg, category=FutureWarning)\n"
          ]
        },
        {
          "output_type": "execute_result",
          "data": {
            "text/plain": [
              "<sklearn.metrics._plot.confusion_matrix.ConfusionMatrixDisplay at 0x7f84329f30d0>"
            ]
          },
          "metadata": {},
          "execution_count": 472
        },
        {
          "output_type": "display_data",
          "data": {
            "text/plain": [
              "<Figure size 432x288 with 2 Axes>"
            ],
            "image/png": "[encoded data removed]"
          },
          "metadata": {
            "needs_background": "light"
          }
        }
      ]
    },
    {
      "cell_type": "markdown",
      "source": [
        "Provem el segon mètode:"
      ],
      "metadata": {
        "id": "lCnCJRA7mWpV"
      }
    },
    {
      "cell_type": "code",
      "source": [
        "C = [0.1,0.5,1, 10, 100]\n",
        "loss = ['hinge','squared_hinge']\n",
        "scores=[0]\n",
        "d={}"
      ],
      "metadata": {
        "id": "a-KxyXKGjMgg"
      },
      "execution_count": null,
      "outputs": []
    },
    {
      "cell_type": "code",
      "source": [
        "start=time()\n",
        "\n",
        "for i in loss:\n",
        "  print(i)\n",
        "  for c in C:\n",
        "    model=svm.LinearSVC(random_state=0,loss=i,C=c,max_iter=10000000)\n",
        "    model.fit(X_SVM_train_st, y_SVM_train)\n",
        "    if model.score(X_SVM_test_st, y_SVM_test)>max(scores):\n",
        "        scores.append(model.score(X_SVM_test_st, y_SVM_test))\n",
        "        d[i]=model.score(X_SVM_test_st, y_SVM_test)\n",
        "        best_model=model\n",
        "\n",
        "elapsed= time() -start\n",
        "print(elapsed)"
      ],
      "metadata": {
        "colab": {
          "base_uri": "https://localhost:8080/"
        },
        "outputId": "08efb096-1c8c-4fe6-b176-01b8392de6a0",
        "id": "_jIL97MK1eVc"
      },
      "execution_count": null,
      "outputs": [
        {
          "output_type": "stream",
          "name": "stdout",
          "text": [
            "hinge\n",
            "squared_hinge\n",
            "120.85604453086853\n"
          ]
        }
      ]
    },
    {
      "cell_type": "code",
      "source": [
        "print(\"Accuracy del training set:\", model.score(X_SVM_train_st,y_SVM_train)*100,\"%\")\n",
        "print(\"Accuracy del test set:\", model.score(X_SVM_test_st,y_SVM_test)*100,\"%\")"
      ],
      "metadata": {
        "colab": {
          "base_uri": "https://localhost:8080/"
        },
        "id": "Jkv23E7Q1w8k",
        "outputId": "304e00c3-d156-42ee-c7b7-29248955b3b7"
      },
      "execution_count": null,
      "outputs": [
        {
          "output_type": "stream",
          "name": "stdout",
          "text": [
            "Accuracy del training set: 83.25 %\n",
            "Accuracy del test set: 83.2 %\n"
          ]
        }
      ]
    },
    {
      "cell_type": "markdown",
      "source": [
        "L'accuracy millora amb prou feines 2 dècimes en el training set però és manté idèntica en el test set."
      ],
      "metadata": {
        "id": "Tnho4yfknS0N"
      }
    },
    {
      "cell_type": "code",
      "source": [
        "plot_confusion_matrix(model,X_SVM_test_st,y_SVM_test,values_format='d',display_labels=['<=50k$','>50k$'])"
      ],
      "metadata": {
        "colab": {
          "base_uri": "https://localhost:8080/",
          "height": 351
        },
        "outputId": "91f27967-9f20-4a4a-ef9a-7f113a314100",
        "id": "_M_GWsff2WEy"
      },
      "execution_count": null,
      "outputs": [
        {
          "output_type": "stream",
          "name": "stderr",
          "text": [
            "/usr/local/lib/python3.8/dist-packages/sklearn/utils/deprecation.py:87: FutureWarning: Function plot_confusion_matrix is deprecated; Function `plot_confusion_matrix` is deprecated in 1.0 and will be removed in 1.2. Use one of the class methods: ConfusionMatrixDisplay.from_predictions or ConfusionMatrixDisplay.from_estimator.\n",
            "  warnings.warn(msg, category=FutureWarning)\n"
          ]
        },
        {
          "output_type": "execute_result",
          "data": {
            "text/plain": [
              "<sklearn.metrics._plot.confusion_matrix.ConfusionMatrixDisplay at 0x7f84328d55b0>"
            ]
          },
          "metadata": {},
          "execution_count": 488
        },
        {
          "output_type": "display_data",
          "data": {
            "text/plain": [
              "<Figure size 432x288 with 2 Axes>"
            ],
            "image/png": "[encoded data removed]"
          },
          "metadata": {
            "needs_background": "light"
          }
        }
      ]
    },
    {
      "cell_type": "markdown",
      "source": [
        "Regularització L1 (Lasso)"
      ],
      "metadata": {
        "id": "snsSrghm3KtT"
      }
    },
    {
      "cell_type": "code",
      "source": [
        "parameters ={'C' : [0.1,0.5,1, 10, 100]}"
      ],
      "metadata": {
        "id": "JG36CfWk3I1v"
      },
      "execution_count": null,
      "outputs": []
    },
    {
      "cell_type": "code",
      "source": [
        "start=time()\n",
        "estimator=GridSearchCV(svm.LinearSVC(penalty='l1',random_state=0,dual=False,max_iter=10000000), parameters, cv=5,scoring='accuracy',verbose=0)\n",
        "estimator.fit(X_SVM_train_st, y_SVM_train)\n",
        "elapsed= time() -start\n",
        "print(elapsed)"
      ],
      "metadata": {
        "colab": {
          "base_uri": "https://localhost:8080/"
        },
        "id": "SWwN4pzuAA6E",
        "outputId": "05dd6154-de7a-4995-bfac-c5a2ff8fc00b"
      },
      "execution_count": null,
      "outputs": [
        {
          "output_type": "stream",
          "name": "stdout",
          "text": [
            "25.305375337600708\n"
          ]
        }
      ]
    },
    {
      "cell_type": "code",
      "source": [
        "print(\"Accuracy del training set:\", round(estimator.score(X_SVM_train_st,y_SVM_train)*100,2),\"%\")\n",
        "print(\"Accuracy del test set:\", round(estimator.score(X_SVM_test_st,y_SVM_test)*100,2),\"%\")\n",
        "print(estimator.best_params_)"
      ],
      "metadata": {
        "colab": {
          "base_uri": "https://localhost:8080/"
        },
        "id": "Iot8Jn2-Afqt",
        "outputId": "5355bb5e-37e0-4efc-f026-5d284b289c00"
      },
      "execution_count": null,
      "outputs": [
        {
          "output_type": "stream",
          "name": "stdout",
          "text": [
            "Accuracy del training set: 83.12 %\n",
            "Accuracy del test set: 83.4 %\n",
            "{'C': 0.5}\n"
          ]
        }
      ]
    },
    {
      "cell_type": "markdown",
      "source": [
        "L'accuracy millora un 0.2% al test set i empitjora un 0.1% al training set. Aquest resulta ser **el millor model SVM.**"
      ],
      "metadata": {
        "id": "T6JjTXTyoP6u"
      }
    },
    {
      "cell_type": "code",
      "source": [
        "plot_confusion_matrix(estimator,X_SVM_test_st,y_SVM_test,values_format='d',display_labels=['<=50k$','>50k$'])"
      ],
      "metadata": {
        "colab": {
          "base_uri": "https://localhost:8080/",
          "height": 351
        },
        "outputId": "ae0a83c6-4ac4-4a93-c927-d4c8f0d5bd03",
        "id": "1opyH-UuDQFh"
      },
      "execution_count": null,
      "outputs": [
        {
          "output_type": "stream",
          "name": "stderr",
          "text": [
            "/usr/local/lib/python3.8/dist-packages/sklearn/utils/deprecation.py:87: FutureWarning: Function plot_confusion_matrix is deprecated; Function `plot_confusion_matrix` is deprecated in 1.0 and will be removed in 1.2. Use one of the class methods: ConfusionMatrixDisplay.from_predictions or ConfusionMatrixDisplay.from_estimator.\n",
            "  warnings.warn(msg, category=FutureWarning)\n"
          ]
        },
        {
          "output_type": "execute_result",
          "data": {
            "text/plain": [
              "<sklearn.metrics._plot.confusion_matrix.ConfusionMatrixDisplay at 0x7f8432c022e0>"
            ]
          },
          "metadata": {},
          "execution_count": 495
        },
        {
          "output_type": "display_data",
          "data": {
            "text/plain": [
              "<Figure size 432x288 with 2 Axes>"
            ],
            "image/png": "[encoded data removed]"
          },
          "metadata": {
            "needs_background": "light"
          }
        }
      ]
    },
    {
      "cell_type": "code",
      "source": [
        "C = [0.1,0.5,1, 10, 100]\n",
        "scores=[0]\n",
        "d={}"
      ],
      "metadata": {
        "id": "iEsZgGITomSJ"
      },
      "execution_count": null,
      "outputs": []
    },
    {
      "cell_type": "code",
      "source": [
        "start=time()\n",
        "\n",
        "for c in C:\n",
        "  print(c)\n",
        "  model=svm.LinearSVC(penalty='l1',random_state=0,C=c,max_iter=10000000,dual=False)\n",
        "  model.fit(X_SVM_train_st, y_SVM_train)\n",
        "  if model.score(X_SVM_test_st, y_SVM_test)>max(scores):\n",
        "      scores.append(model.score(X_SVM_test_st, y_SVM_test))\n",
        "      d[i]=model.score(X_SVM_test_st, y_SVM_test)\n",
        "      best_model=model\n",
        "\n",
        "elapsed= time() -start\n",
        "print(elapsed)"
      ],
      "metadata": {
        "colab": {
          "base_uri": "https://localhost:8080/"
        },
        "outputId": "522c3b7f-fe9e-48e8-dff3-919d8183f9ee",
        "id": "Yl5VbE7Z3ikq"
      },
      "execution_count": null,
      "outputs": [
        {
          "output_type": "stream",
          "name": "stdout",
          "text": [
            "0.1\n",
            "0.5\n",
            "1\n",
            "10\n",
            "100\n",
            "6.941392183303833\n"
          ]
        }
      ]
    },
    {
      "cell_type": "code",
      "source": [
        "print(\"Accuracy del training set:\", round(model.score(X_SVM_train_st,y_SVM_train)*100,2),\"%\")\n",
        "print(\"Accuracy del test set:\", round(model.score(X_SVM_test_st,y_SVM_test)*100,2),\"%\")"
      ],
      "metadata": {
        "colab": {
          "base_uri": "https://localhost:8080/"
        },
        "outputId": "b2f4b4a4-d951-4312-ce57-c7b4b3effcaf",
        "id": "3pvfROP54Kf7"
      },
      "execution_count": null,
      "outputs": [
        {
          "output_type": "stream",
          "name": "stdout",
          "text": [
            "Accuracy del training set: 83.275 %\n",
            "Accuracy del test set: 83.1 %\n"
          ]
        }
      ]
    },
    {
      "cell_type": "markdown",
      "source": [
        "El model no millora amb aquesta última tècnica."
      ],
      "metadata": {
        "id": "3QXesZ_Zo8UN"
      }
    },
    {
      "cell_type": "code",
      "source": [
        "plot_confusion_matrix(model,X_SVM_test_st,y_SVM_test,values_format='d',display_labels=['<=50k$','>50k$'])"
      ],
      "metadata": {
        "colab": {
          "base_uri": "https://localhost:8080/",
          "height": 351
        },
        "outputId": "8f85a734-6627-4728-a619-f565160564aa",
        "id": "FU7XSs3H4RgA"
      },
      "execution_count": null,
      "outputs": [
        {
          "output_type": "stream",
          "name": "stderr",
          "text": [
            "/usr/local/lib/python3.8/dist-packages/sklearn/utils/deprecation.py:87: FutureWarning: Function plot_confusion_matrix is deprecated; Function `plot_confusion_matrix` is deprecated in 1.0 and will be removed in 1.2. Use one of the class methods: ConfusionMatrixDisplay.from_predictions or ConfusionMatrixDisplay.from_estimator.\n",
            "  warnings.warn(msg, category=FutureWarning)\n"
          ]
        },
        {
          "output_type": "execute_result",
          "data": {
            "text/plain": [
              "<sklearn.metrics._plot.confusion_matrix.ConfusionMatrixDisplay at 0x7f8432743580>"
            ]
          },
          "metadata": {},
          "execution_count": 499
        },
        {
          "output_type": "display_data",
          "data": {
            "text/plain": [
              "<Figure size 432x288 with 2 Axes>"
            ],
            "image/png": "[encoded data removed]"
          },
          "metadata": {
            "needs_background": "light"
          }
        }
      ]
    },
    {
      "cell_type": "markdown",
      "source": [
        "**RBF**:"
      ],
      "metadata": {
        "id": "sELw5-sovl_8"
      }
    },
    {
      "cell_type": "code",
      "source": [
        "parameters ={'gamma':['scale','auto',1,0.1,0.01,0.001,0.0001],'C' : [0.1,0.5,1, 10, 100]}"
      ],
      "metadata": {
        "id": "1wofwanGpJT0"
      },
      "execution_count": null,
      "outputs": []
    },
    {
      "cell_type": "code",
      "source": [
        "start=time()\n",
        "estimator=GridSearchCV(svm.SVC(), parameters, cv=5,scoring='accuracy',verbose=0)\n",
        "estimator.fit(X_SVM_train_st, y_SVM_train)\n",
        "elapsed= time() -start\n",
        "print(elapsed)"
      ],
      "metadata": {
        "colab": {
          "base_uri": "https://localhost:8080/"
        },
        "id": "uwz3KNunpYyR",
        "outputId": "56e7f11e-a226-4e61-9d48-c672799e0c9c"
      },
      "execution_count": null,
      "outputs": [
        {
          "output_type": "stream",
          "name": "stdout",
          "text": [
            "180.12516927719116\n"
          ]
        }
      ]
    },
    {
      "cell_type": "code",
      "source": [
        "print(\"Accuracy del training set:\", round(estimator.score(X_SVM_train_st,y_SVM_train)*100,2),\"%\")\n",
        "print(\"Accuracy del test set:\", round(estimator.score(X_SVM_test_st,y_SVM_test)*100,2),\"%\")\n",
        "print(estimator.best_params_)"
      ],
      "metadata": {
        "colab": {
          "base_uri": "https://localhost:8080/"
        },
        "id": "yE-UQM_epngY",
        "outputId": "41cdfdfa-5aa6-4675-cf3e-55e91dcd0c3f"
      },
      "execution_count": null,
      "outputs": [
        {
          "output_type": "stream",
          "name": "stdout",
          "text": [
            "Accuracy del training set: 86.02 %\n",
            "Accuracy del test set: 82.0 %\n",
            "{'C': 100, 'gamma': 0.01}\n"
          ]
        }
      ]
    },
    {
      "cell_type": "markdown",
      "source": [
        "No millora l'accuracy del test set. S'aprecia més overfitting que amb els altres kernels."
      ],
      "metadata": {
        "id": "BG7vR8-AqZaI"
      }
    },
    {
      "cell_type": "code",
      "source": [
        "plot_confusion_matrix(estimator,X_SVM_test_st,y_SVM_test,values_format='d',display_labels=['<=50k$','>50k$'])"
      ],
      "metadata": {
        "colab": {
          "base_uri": "https://localhost:8080/",
          "height": 351
        },
        "id": "sBDIqhuXpsfM",
        "outputId": "a90f8d78-952c-4336-fbb8-2b096fb16727"
      },
      "execution_count": null,
      "outputs": [
        {
          "output_type": "stream",
          "name": "stderr",
          "text": [
            "/usr/local/lib/python3.8/dist-packages/sklearn/utils/deprecation.py:87: FutureWarning: Function plot_confusion_matrix is deprecated; Function `plot_confusion_matrix` is deprecated in 1.0 and will be removed in 1.2. Use one of the class methods: ConfusionMatrixDisplay.from_predictions or ConfusionMatrixDisplay.from_estimator.\n",
            "  warnings.warn(msg, category=FutureWarning)\n"
          ]
        },
        {
          "output_type": "execute_result",
          "data": {
            "text/plain": [
              "<sklearn.metrics._plot.confusion_matrix.ConfusionMatrixDisplay at 0x7f8432395130>"
            ]
          },
          "metadata": {},
          "execution_count": 503
        },
        {
          "output_type": "display_data",
          "data": {
            "text/plain": [
              "<Figure size 432x288 with 2 Axes>"
            ],
            "image/png": "[encoded data removed]"
          },
          "metadata": {
            "needs_background": "light"
          }
        }
      ]
    },
    {
      "cell_type": "code",
      "source": [
        "gamma = ['scale','auto',1,0.1,0.01,0.001,0.0001]\n",
        "C = [0.1,0.5,1, 10, 100]\n",
        "scores=[0]\n",
        "d={}"
      ],
      "metadata": {
        "id": "pya3D11Bk5yN"
      },
      "execution_count": null,
      "outputs": []
    },
    {
      "cell_type": "code",
      "source": [
        "start=time()\n",
        "\n",
        "for i in gamma:\n",
        "  print(i)\n",
        "  for c in C:\n",
        "    model=svm.SVC(kernel='rbf',random_state=0,gamma=i,C=c)\n",
        "    model.fit(X_SVM_train_st, y_SVM_train)\n",
        "    if model.score(X_SVM_test_st, y_SVM_test)>max(scores):\n",
        "        scores.append(model.score(X_SVM_test_st, y_SVM_test))\n",
        "        d[i]=model.score(X_SVM_test_st, y_SVM_test)\n",
        "        best_model=model\n",
        "\n",
        "elapsed= time() -start\n",
        "print(elapsed)"
      ],
      "metadata": {
        "colab": {
          "base_uri": "https://localhost:8080/"
        },
        "id": "uJSOMuQCtWZ3",
        "outputId": "1c68fe74-4737-4251-a12e-fb1e50f540fa"
      },
      "execution_count": null,
      "outputs": [
        {
          "output_type": "stream",
          "name": "stdout",
          "text": [
            "scale\n",
            "auto\n",
            "1\n",
            "0.1\n",
            "0.01\n",
            "0.001\n",
            "0.0001\n",
            "66.99364733695984\n"
          ]
        }
      ]
    },
    {
      "cell_type": "code",
      "source": [
        "print(\"Accuracy del training set:\", round(best_model.score(X_SVM_train_st,y_SVM_train)*100,2),\"%\")\n",
        "print(\"Accuracy del test set:\", round(best_model.score(X_SVM_test_st,y_SVM_test)*100,2),\"%\")"
      ],
      "metadata": {
        "colab": {
          "base_uri": "https://localhost:8080/"
        },
        "id": "mXtAA_cjuhJy",
        "outputId": "b94aa5b0-00c8-4256-8b5f-d4a7df8aecd0"
      },
      "execution_count": null,
      "outputs": [
        {
          "output_type": "stream",
          "name": "stdout",
          "text": [
            "Accuracy del training set: 84.98 %\n",
            "Accuracy del test set: 82.8 %\n"
          ]
        }
      ]
    },
    {
      "cell_type": "markdown",
      "source": [
        "Per ara el millor SVM continua essent el lineal amb regularització L1."
      ],
      "metadata": {
        "id": "7Sq2s8uQrQhR"
      }
    },
    {
      "cell_type": "code",
      "source": [
        "plot_confusion_matrix(best_model,X_SVM_test_st,y_SVM_test,values_format='d',display_labels=['<=50k$','>50k$'])"
      ],
      "metadata": {
        "colab": {
          "base_uri": "https://localhost:8080/",
          "height": 351
        },
        "id": "eI1fGXsJu4bm",
        "outputId": "42e2e95d-f8ef-4e21-a425-c3d03b94f369"
      },
      "execution_count": null,
      "outputs": [
        {
          "output_type": "stream",
          "name": "stderr",
          "text": [
            "/usr/local/lib/python3.8/dist-packages/sklearn/utils/deprecation.py:87: FutureWarning: Function plot_confusion_matrix is deprecated; Function `plot_confusion_matrix` is deprecated in 1.0 and will be removed in 1.2. Use one of the class methods: ConfusionMatrixDisplay.from_predictions or ConfusionMatrixDisplay.from_estimator.\n",
            "  warnings.warn(msg, category=FutureWarning)\n"
          ]
        },
        {
          "output_type": "execute_result",
          "data": {
            "text/plain": [
              "<sklearn.metrics._plot.confusion_matrix.ConfusionMatrixDisplay at 0x7f84327e8f70>"
            ]
          },
          "metadata": {},
          "execution_count": 509
        },
        {
          "output_type": "display_data",
          "data": {
            "text/plain": [
              "<Figure size 432x288 with 2 Axes>"
            ],
            "image/png": "[encoded data removed]"
          },
          "metadata": {
            "needs_background": "light"
          }
        }
      ]
    },
    {
      "cell_type": "markdown",
      "source": [
        "**SIGMOID:**"
      ],
      "metadata": {
        "id": "eWedLOBsxAXV"
      }
    },
    {
      "cell_type": "code",
      "source": [
        "parameters ={'gamma':['scale','auto',1,0.1,0.01,0.001,0.0001],'C' : [0.1,0.5,1, 10, 100]}"
      ],
      "metadata": {
        "id": "H6zESxi1qHUI"
      },
      "execution_count": null,
      "outputs": []
    },
    {
      "cell_type": "code",
      "source": [
        "start=time()\n",
        "estimator=GridSearchCV(svm.SVC(kernel='sigmoid'), parameters, cv=5,scoring='accuracy',verbose=0)\n",
        "estimator.fit(X_SVM_train_st, y_SVM_train)\n",
        "elapsed= time() -start\n",
        "print(elapsed)"
      ],
      "metadata": {
        "colab": {
          "base_uri": "https://localhost:8080/"
        },
        "id": "CVybGQPdqJrf",
        "outputId": "860f487c-33c3-4606-fb8f-e6a17f759a92"
      },
      "execution_count": null,
      "outputs": [
        {
          "output_type": "stream",
          "name": "stdout",
          "text": [
            "178.22076892852783\n"
          ]
        }
      ]
    },
    {
      "cell_type": "code",
      "source": [
        "print(\"Accuracy del training set:\", round(estimator.score(X_SVM_train_st,y_SVM_train)*100,2),\"%\")\n",
        "print(\"Accuracy del test set:\", round(estimator.score(X_SVM_test_st,y_SVM_test)*100,2),\"%\")\n",
        "print(estimator.best_params_)"
      ],
      "metadata": {
        "colab": {
          "base_uri": "https://localhost:8080/"
        },
        "id": "GbccTadeqRLo",
        "outputId": "07fd3f27-805b-4593-f413-1d5e1695b4c9"
      },
      "execution_count": null,
      "outputs": [
        {
          "output_type": "stream",
          "name": "stdout",
          "text": [
            "Accuracy del training set: 81.9 %\n",
            "Accuracy del test set: 82.4 %\n",
            "{'C': 10, 'gamma': 'auto'}\n"
          ]
        }
      ]
    },
    {
      "cell_type": "code",
      "source": [
        "plot_confusion_matrix(estimator,X_SVM_test_st,y_SVM_test,values_format='d',display_labels=['<=50k$','>50k$'])"
      ],
      "metadata": {
        "colab": {
          "base_uri": "https://localhost:8080/",
          "height": 351
        },
        "id": "M5cJlfhGqwwx",
        "outputId": "9fb48832-e999-4557-a420-efa29dcb6e5a"
      },
      "execution_count": null,
      "outputs": [
        {
          "output_type": "stream",
          "name": "stderr",
          "text": [
            "/usr/local/lib/python3.8/dist-packages/sklearn/utils/deprecation.py:87: FutureWarning: Function plot_confusion_matrix is deprecated; Function `plot_confusion_matrix` is deprecated in 1.0 and will be removed in 1.2. Use one of the class methods: ConfusionMatrixDisplay.from_predictions or ConfusionMatrixDisplay.from_estimator.\n",
            "  warnings.warn(msg, category=FutureWarning)\n"
          ]
        },
        {
          "output_type": "execute_result",
          "data": {
            "text/plain": [
              "<sklearn.metrics._plot.confusion_matrix.ConfusionMatrixDisplay at 0x7f84332ceb80>"
            ]
          },
          "metadata": {},
          "execution_count": 513
        },
        {
          "output_type": "display_data",
          "data": {
            "text/plain": [
              "<Figure size 432x288 with 2 Axes>"
            ],
            "image/png": "[encoded data removed]"
          },
          "metadata": {
            "needs_background": "light"
          }
        }
      ]
    },
    {
      "cell_type": "code",
      "source": [
        "gamma = ['scale','auto',1,0.1,0.01,0.001,0.0001]\n",
        "C = [0.1,0.5,1, 10, 100]\n",
        "scores=[0]\n",
        "d={}"
      ],
      "metadata": {
        "id": "cHNDp5O4w-6F"
      },
      "execution_count": null,
      "outputs": []
    },
    {
      "cell_type": "code",
      "source": [
        "start=time()\n",
        "\n",
        "for i in gamma:\n",
        "  print(i)\n",
        "  for c in C:\n",
        "    model=svm.SVC(kernel='sigmoid',random_state=0,gamma=i,C=c)\n",
        "    model.fit(X_SVM_train_st, y_SVM_train)\n",
        "    if model.score(X_SVM_test_st, y_SVM_test)>max(scores):\n",
        "        scores.append(model.score(X_SVM_test_st, y_SVM_test))\n",
        "        d[i]=model.score(X_SVM_test_st, y_SVM_test)\n",
        "        best_model=model\n",
        "\n",
        "elapsed= time() -start\n",
        "print(elapsed)"
      ],
      "metadata": {
        "colab": {
          "base_uri": "https://localhost:8080/"
        },
        "outputId": "aba3fd4a-3153-4ff0-b406-db7048872788",
        "id": "X9MWUQX1vxw-"
      },
      "execution_count": null,
      "outputs": [
        {
          "output_type": "stream",
          "name": "stdout",
          "text": [
            "scale\n",
            "auto\n",
            "1\n",
            "0.1\n",
            "0.01\n",
            "0.001\n",
            "0.0001\n",
            "52.72753310203552\n"
          ]
        }
      ]
    },
    {
      "cell_type": "code",
      "source": [
        "print(\"Accuracy del training set:\", round(best_model.score(X_SVM_train_st,y_SVM_train)*100,2),\"%\")\n",
        "print(\"Accuracy del test set:\", round(best_model.score(X_SVM_test_st,y_SVM_test)*100,2),\"%\")"
      ],
      "metadata": {
        "colab": {
          "base_uri": "https://localhost:8080/"
        },
        "outputId": "fe611b27-0e19-437a-f9d9-a72e5537c2ab",
        "id": "U47s7vrGwQC2"
      },
      "execution_count": null,
      "outputs": [
        {
          "output_type": "stream",
          "name": "stdout",
          "text": [
            "Accuracy del training set: 82.0 %\n",
            "Accuracy del test set: 82.5 %\n"
          ]
        }
      ]
    },
    {
      "cell_type": "code",
      "source": [
        "plot_confusion_matrix(best_model,X_SVM_test_st,y_SVM_test,values_format='d',display_labels=['<=50k$','>50k$'])"
      ],
      "metadata": {
        "colab": {
          "base_uri": "https://localhost:8080/",
          "height": 351
        },
        "id": "p9l5udJnwZSN",
        "outputId": "374d4611-38f8-4051-bd71-a380ee09447a"
      },
      "execution_count": null,
      "outputs": [
        {
          "output_type": "stream",
          "name": "stderr",
          "text": [
            "/usr/local/lib/python3.8/dist-packages/sklearn/utils/deprecation.py:87: FutureWarning: Function plot_confusion_matrix is deprecated; Function `plot_confusion_matrix` is deprecated in 1.0 and will be removed in 1.2. Use one of the class methods: ConfusionMatrixDisplay.from_predictions or ConfusionMatrixDisplay.from_estimator.\n",
            "  warnings.warn(msg, category=FutureWarning)\n"
          ]
        },
        {
          "output_type": "execute_result",
          "data": {
            "text/plain": [
              "<sklearn.metrics._plot.confusion_matrix.ConfusionMatrixDisplay at 0x7f843345f670>"
            ]
          },
          "metadata": {},
          "execution_count": 517
        },
        {
          "output_type": "display_data",
          "data": {
            "text/plain": [
              "<Figure size 432x288 with 2 Axes>"
            ],
            "image/png": "[encoded data removed]"
          },
          "metadata": {
            "needs_background": "light"
          }
        }
      ]
    },
    {
      "cell_type": "markdown",
      "source": [
        "**POLYNOMIAL:**"
      ],
      "metadata": {
        "id": "elT8onCO4xNC"
      }
    },
    {
      "cell_type": "code",
      "source": [
        "parameters ={'gamma':['scale','auto',1,0.1,0.01,0.001,0.0001],'C' : [0.1,0.5,1, 10, 100]}\n",
        "degree = np.arange(1,3)"
      ],
      "metadata": {
        "id": "P3xiMtq9rxKV"
      },
      "execution_count": null,
      "outputs": []
    },
    {
      "cell_type": "code",
      "source": [
        "start=time()\n",
        "for d in degree:\n",
        "  estimator=GridSearchCV(svm.SVC(kernel='poly',degree=d), parameters, cv=5,scoring='accuracy',verbose=0)\n",
        "  estimator.fit(X_SVM_train_st, y_SVM_train)\n",
        "elapsed= time() -start\n",
        "print(elapsed)"
      ],
      "metadata": {
        "id": "K-g0ebA7r7Is",
        "colab": {
          "base_uri": "https://localhost:8080/"
        },
        "outputId": "8ec6381f-206d-408b-a4ed-f597a5409540"
      },
      "execution_count": null,
      "outputs": [
        {
          "output_type": "stream",
          "name": "stdout",
          "text": [
            "2445.7261888980865\n"
          ]
        }
      ]
    },
    {
      "cell_type": "markdown",
      "source": [
        "Tot i fer downsample del dataset el temps d'ajust del kernel polynomic ha estat de 40 minuts."
      ],
      "metadata": {
        "id": "oaaX5A8xl6-E"
      }
    },
    {
      "cell_type": "code",
      "source": [
        "print(\"Accuracy del training set:\", round(estimator.score(X_SVM_train_st,y_SVM_train)*100,2),\"%\")\n",
        "print(\"Accuracy del test set:\", round(estimator.score(X_SVM_test_st,y_SVM_test)*100,2),\"%\")\n",
        "print(estimator.best_params_)"
      ],
      "metadata": {
        "id": "p1qevq5psAHL",
        "colab": {
          "base_uri": "https://localhost:8080/"
        },
        "outputId": "34ca8b8a-de54-4f07-cb6c-e62c132a1438"
      },
      "execution_count": null,
      "outputs": [
        {
          "output_type": "stream",
          "name": "stdout",
          "text": [
            "Accuracy del training set: 84.7 %\n",
            "Accuracy del test set: 82.6 %\n",
            "{'C': 1, 'gamma': 0.1}\n"
          ]
        }
      ]
    },
    {
      "cell_type": "code",
      "source": [
        "plot_confusion_matrix(estimator,X_SVM_test_st,y_SVM_test,values_format='d',display_labels=['<=50k$','>50k$'])"
      ],
      "metadata": {
        "id": "eEKe8VPxsDxj",
        "colab": {
          "base_uri": "https://localhost:8080/",
          "height": 433
        },
        "outputId": "9d0a98a9-f6cf-4c75-ed02-a131b2fb8ba1"
      },
      "execution_count": null,
      "outputs": [
        {
          "output_type": "stream",
          "name": "stderr",
          "text": [
            "/usr/local/lib/python3.8/dist-packages/sklearn/utils/deprecation.py:87: FutureWarning: Function plot_confusion_matrix is deprecated; Function `plot_confusion_matrix` is deprecated in 1.0 and will be removed in 1.2. Use one of the class methods: ConfusionMatrixDisplay.from_predictions or ConfusionMatrixDisplay.from_estimator.\n",
            "  warnings.warn(msg, category=FutureWarning)\n"
          ]
        },
        {
          "output_type": "execute_result",
          "data": {
            "text/plain": [
              "<sklearn.metrics._plot.confusion_matrix.ConfusionMatrixDisplay at 0x7f304b7fef70>"
            ]
          },
          "metadata": {},
          "execution_count": 136
        },
        {
          "output_type": "display_data",
          "data": {
            "text/plain": [
              "<Figure size 576x396 with 2 Axes>"
            ],
            "image/png": "[encoded data removed]"
          },
          "metadata": {}
        }
      ]
    },
    {
      "cell_type": "markdown",
      "source": [
        "## Feature engineering"
      ],
      "metadata": {
        "id": "OaiOuggXENOW"
      }
    },
    {
      "cell_type": "markdown",
      "source": [
        "A l’haver aplicat one-hot-encoding estem treballant amb un dataset amb 94 variables per instancia. Calculem el percentatge de variança explicada pels components principals i s’observa que aproximadament 40 PC expliquen més del 95% de variança, per tant com a últim experiment aplicarem reducció de dimensionalitat mitjançant PCA i repetirem les proves realitzades als kernels amb GridSearchCV. "
      ],
      "metadata": {
        "id": "K3CeJc_m3_8W"
      }
    },
    {
      "cell_type": "code",
      "source": [
        "pca = PCA()\n",
        "pca.fit_transform(X_SVM_train_st)\n",
        "plt.style.use('seaborn')\n",
        "features = range(pca.n_components_)\n",
        "_, ax = plt.subplots()\n",
        "ax.plot(features, pca.explained_variance_ratio_.cumsum(), '-o', color='black')\n",
        "ax.set(title='Elbow plot training set', \n",
        "       xlabel='Component', \n",
        "       ylabel='Variance explained');\n",
        "plt.show()"
      ],
      "metadata": {
        "colab": {
          "base_uri": "https://localhost:8080/",
          "height": 376
        },
        "id": "seyZ8ShxMpU8",
        "outputId": "06903d5d-b388-4346-e168-fce9f6a88924"
      },
      "execution_count": null,
      "outputs": [
        {
          "output_type": "display_data",
          "data": {
            "text/plain": [
              "<Figure size 576x396 with 1 Axes>"
            ],
            "image/png": "[encoded data removed]"
          },
          "metadata": {}
        }
      ]
    },
    {
      "cell_type": "code",
      "source": [
        "pca = PCA()\n",
        "pca.fit_transform(X_SVM_test_st)\n",
        "plt.style.use('seaborn')\n",
        "features = range(pca.n_components_)\n",
        "_, ax = plt.subplots()\n",
        "ax.plot(features, pca.explained_variance_ratio_.cumsum(), '-o', color='black')\n",
        "ax.set(title='Elbow plot test set', \n",
        "       xlabel='Component', \n",
        "       ylabel='Variance explained');\n",
        "plt.show()"
      ],
      "metadata": {
        "colab": {
          "base_uri": "https://localhost:8080/",
          "height": 376
        },
        "id": "r16oa6zGNF7P",
        "outputId": "e34180fb-e486-4b22-8c69-a028e257476a"
      },
      "execution_count": null,
      "outputs": [
        {
          "output_type": "display_data",
          "data": {
            "text/plain": [
              "<Figure size 576x396 with 1 Axes>"
            ],
            "image/png": "[encoded data removed]"
          },
          "metadata": {}
        }
      ]
    },
    {
      "cell_type": "code",
      "source": [
        "pca=PCA(40).fit(X_SVM_train_st)\n",
        "X_SVM_train_st_pca = pca.transform(X_SVM_train_st)\n",
        "X_SVM_test_st_pca = pca.transform(X_SVM_test_st)"
      ],
      "metadata": {
        "id": "PZ0ymutCM9ib"
      },
      "execution_count": null,
      "outputs": []
    },
    {
      "cell_type": "code",
      "source": [
        "clf_svm = svm.SVC(random_state=42)\n",
        "clf_svm.fit(X_SVM_train_st_pca, y_SVM_train)\n",
        "clf_svm.get_params()"
      ],
      "metadata": {
        "colab": {
          "base_uri": "https://localhost:8080/"
        },
        "id": "emhkENkjNq3b",
        "outputId": "0d797619-25d6-4722-afc2-db6746bee38f"
      },
      "execution_count": null,
      "outputs": [
        {
          "output_type": "execute_result",
          "data": {
            "text/plain": [
              "{'C': 1.0,\n",
              " 'break_ties': False,\n",
              " 'cache_size': 200,\n",
              " 'class_weight': None,\n",
              " 'coef0': 0.0,\n",
              " 'decision_function_shape': 'ovr',\n",
              " 'degree': 3,\n",
              " 'gamma': 'scale',\n",
              " 'kernel': 'rbf',\n",
              " 'max_iter': -1,\n",
              " 'probability': False,\n",
              " 'random_state': 42,\n",
              " 'shrinking': True,\n",
              " 'tol': 0.001,\n",
              " 'verbose': False}"
            ]
          },
          "metadata": {},
          "execution_count": 142
        }
      ]
    },
    {
      "cell_type": "code",
      "source": [
        "print(\"Obtenim un\",round(clf_svm.score(X_SVM_train_st_pca, y_SVM_train)*100,2),\"% d'accuracy en el training set\")\n",
        "print(\"Obtenim un\",round(clf_svm.score(X_SVM_test_st_pca, y_SVM_test)*100,2),\"% d'accuracy en el test set\")"
      ],
      "metadata": {
        "colab": {
          "base_uri": "https://localhost:8080/"
        },
        "id": "DDfO4Hc3N70F",
        "outputId": "6d3a848d-b5a1-4ea2-f270-88abab69b375"
      },
      "execution_count": null,
      "outputs": [
        {
          "output_type": "stream",
          "name": "stdout",
          "text": [
            "Obtenim un 85.48 % d'accuracy en el training set\n",
            "Obtenim un 83.0 % d'accuracy en el test set\n"
          ]
        }
      ]
    },
    {
      "cell_type": "code",
      "source": [
        "parameters ={'C' : [0.1,0.5,1, 10, 100]}"
      ],
      "metadata": {
        "id": "E2VKEM3_OV01"
      },
      "execution_count": null,
      "outputs": []
    },
    {
      "cell_type": "code",
      "source": [
        "start=time()\n",
        "estimator=GridSearchCV(svm.LinearSVC(penalty='l1',random_state=0,dual=False,max_iter=10000000), parameters, cv=5,scoring='accuracy',verbose=0)\n",
        "estimator.fit(X_SVM_train_st_pca, y_SVM_train)\n",
        "elapsed= time() -start\n",
        "print(elapsed)"
      ],
      "metadata": {
        "colab": {
          "base_uri": "https://localhost:8080/"
        },
        "outputId": "ac39786d-359d-4adc-a8c8-5a8f4530514d",
        "id": "gPT7M6AJOV01"
      },
      "execution_count": null,
      "outputs": [
        {
          "output_type": "stream",
          "name": "stdout",
          "text": [
            "2.0235679149627686\n"
          ]
        }
      ]
    },
    {
      "cell_type": "code",
      "source": [
        "print(\"Accuracy del training set:\", round(estimator.score(X_SVM_train_st_pca, y_SVM_train)*100,2),\"%\")\n",
        "print(\"Accuracy del test set:\", round(estimator.score(X_SVM_test_st_pca, y_SVM_test)*100,2),\"%\")\n",
        "print(estimator.best_params_)"
      ],
      "metadata": {
        "colab": {
          "base_uri": "https://localhost:8080/"
        },
        "outputId": "ed7d151d-e03f-44cd-c3d5-f34c1ee3a4f2",
        "id": "G49Y4kd-OV02"
      },
      "execution_count": null,
      "outputs": [
        {
          "output_type": "stream",
          "name": "stdout",
          "text": [
            "Accuracy del training set: 82.85 %\n",
            "Accuracy del test set: 83.3 %\n",
            "{'C': 0.5}\n"
          ]
        }
      ]
    },
    {
      "cell_type": "code",
      "source": [
        "parameters ={'C' : [0.1,0.5,1, 10, 100], 'loss' : ['hinge','squared_hinge']}\n",
        "scores=[0]"
      ],
      "metadata": {
        "id": "_XVQhzZ_Q3Py"
      },
      "execution_count": null,
      "outputs": []
    },
    {
      "cell_type": "code",
      "source": [
        "start=time()\n",
        "estimator=GridSearchCV(svm.LinearSVC(random_state=0,max_iter=10000000), parameters, cv=5,scoring='accuracy',verbose=0)\n",
        "estimator.fit(X_SVM_train_st_pca, y_SVM_train)\n",
        "elapsed= time() -start\n",
        "print(elapsed)"
      ],
      "metadata": {
        "colab": {
          "base_uri": "https://localhost:8080/"
        },
        "outputId": "a7f61c4a-4b42-4038-b228-1cb94b583c05",
        "id": "0D6MQtM3Q3Pz"
      },
      "execution_count": null,
      "outputs": [
        {
          "output_type": "stream",
          "name": "stdout",
          "text": [
            "580.6387357711792\n"
          ]
        }
      ]
    },
    {
      "cell_type": "code",
      "source": [
        "print(\"Accuracy del training set:\", round(estimator.score(X_SVM_train_st_pca,y_SVM_train)*100,2),\"%\")\n",
        "print(\"Accuracy del test set:\", round(estimator.score(X_SVM_test_st_pca,y_SVM_test)*100,2),\"%\")\n",
        "print(estimator.best_params_)"
      ],
      "metadata": {
        "colab": {
          "base_uri": "https://localhost:8080/"
        },
        "outputId": "0ba6c763-92c9-49bd-ec43-ea33aee260b9",
        "id": "nk92BZ3PQ3Pz"
      },
      "execution_count": null,
      "outputs": [
        {
          "output_type": "stream",
          "name": "stdout",
          "text": [
            "Accuracy del training set: 82.88 %\n",
            "Accuracy del test set: 83.5 %\n",
            "{'C': 0.5, 'loss': 'squared_hinge'}\n"
          ]
        }
      ]
    },
    {
      "cell_type": "code",
      "source": [
        "parameters ={'gamma':['scale','auto',1,0.1,0.01,0.001,0.0001],'C' : [0.1,0.5,1, 10, 100]}"
      ],
      "metadata": {
        "id": "iH4BQf3QO0Tr"
      },
      "execution_count": null,
      "outputs": []
    },
    {
      "cell_type": "code",
      "source": [
        "start=time()\n",
        "estimator=GridSearchCV(svm.SVC(), parameters, cv=5,scoring='accuracy',verbose=0)\n",
        "estimator.fit(X_SVM_train_st_pca, y_SVM_train)\n",
        "elapsed= time() -start\n",
        "print(elapsed)"
      ],
      "metadata": {
        "colab": {
          "base_uri": "https://localhost:8080/"
        },
        "outputId": "d0d513dd-5aa4-4f04-cbc2-bfea74a2ff6d",
        "id": "BwvwhWhuO0Tr"
      },
      "execution_count": null,
      "outputs": [
        {
          "output_type": "stream",
          "name": "stdout",
          "text": [
            "109.73567700386047\n"
          ]
        }
      ]
    },
    {
      "cell_type": "code",
      "source": [
        "print(\"Accuracy del training set:\", round(estimator.score(X_SVM_train_st_pca, y_SVM_train)*100,2),\"%\")\n",
        "print(\"Accuracy del test set:\", round(estimator.score(X_SVM_test_st_pca,y_SVM_test)*100,2),\"%\")\n",
        "print(estimator.best_params_)"
      ],
      "metadata": {
        "colab": {
          "base_uri": "https://localhost:8080/"
        },
        "outputId": "acd25f4d-de6d-42ec-8dab-248409d72df8",
        "id": "ps4JNh2aO0Tr"
      },
      "execution_count": null,
      "outputs": [
        {
          "output_type": "stream",
          "name": "stdout",
          "text": [
            "Accuracy del training set: 85.12 %\n",
            "Accuracy del test set: 82.5 %\n",
            "{'C': 10, 'gamma': 'auto'}\n"
          ]
        }
      ]
    },
    {
      "cell_type": "code",
      "source": [
        "parameters ={'gamma':['scale','auto',1,0.1,0.01,0.001,0.0001],'C' : [0.1,0.5,1, 10, 100]}"
      ],
      "metadata": {
        "id": "He1nHdfL3Qvj"
      },
      "execution_count": null,
      "outputs": []
    },
    {
      "cell_type": "code",
      "source": [
        "start=time()\n",
        "estimator=GridSearchCV(svm.SVC(kernel='sigmoid'), parameters, cv=5,scoring='accuracy',verbose=0)\n",
        "estimator.fit(X_SVM_train_st_pca, y_SVM_train)\n",
        "elapsed= time() -start\n",
        "print(elapsed)"
      ],
      "metadata": {
        "colab": {
          "base_uri": "https://localhost:8080/"
        },
        "outputId": "b342c54a-32bc-4762-a2cb-98b89187755c",
        "id": "ax5sPcLc3Qvj"
      },
      "execution_count": null,
      "outputs": [
        {
          "output_type": "stream",
          "name": "stdout",
          "text": [
            "116.10612535476685\n"
          ]
        }
      ]
    },
    {
      "cell_type": "code",
      "source": [
        "print(\"Accuracy del training set:\", round(estimator.score(X_SVM_train_st_pca, y_SVM_train)*100,2),\"%\")\n",
        "print(\"Accuracy del test set:\", round(estimator.score(X_SVM_test_st_pca,y_SVM_test)*100,2),\"%\")\n",
        "print(estimator.best_params_)"
      ],
      "metadata": {
        "colab": {
          "base_uri": "https://localhost:8080/"
        },
        "outputId": "45e2ec7d-2211-4b99-f084-bde90a709a49",
        "id": "4_1nN4jp3Qvj"
      },
      "execution_count": null,
      "outputs": [
        {
          "output_type": "stream",
          "name": "stdout",
          "text": [
            "Accuracy del training set: 81.82 %\n",
            "Accuracy del test set: 82.3 %\n",
            "{'C': 10, 'gamma': 0.01}\n"
          ]
        }
      ]
    },
    {
      "cell_type": "markdown",
      "source": [
        "# CONCLUSIONS"
      ],
      "metadata": {
        "id": "8ayaOYTltKMM"
      }
    },
    {
      "cell_type": "markdown",
      "source": [
        "De tots els models avaluats, l'únic que supera el 85% d'accuracy al conjunt d'entrenament és el SVM amb kernel RBF. És per tant el que té més overfitting, ja que la puntuació en el conjunt de validació no destaca. En quant a accuracy al conjunt de validació, els que presenten millors resultats són els kernels lineals. L'estimador SVM és el que dóna millors resultats en aquest dataset. \n",
        "\n",
        "\n",
        "El millor model és el **SVM amb kernel lineal i regularització l1**, ja que presenta un accuracy molt similar en ambdós conjunts, pràcticament la més alta al conjunt de validació amb un 83.4%. A més té una precisió superior al 80% per ambdues classes, del 86.46% en la classe <=50k i del 80.18% en la >50k.\n"
      ],
      "metadata": {
        "id": "S94IHn9VtVmv"
      }
    }
  ]
}